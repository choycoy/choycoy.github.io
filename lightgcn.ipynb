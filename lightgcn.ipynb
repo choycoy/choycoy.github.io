{
  "nbformat": 4,
  "nbformat_minor": 0,
  "metadata": {
    "colab": {
      "provenance": [],
      "authorship_tag": "ABX9TyNUxLLyZKTZjw6he4ShdbRg",
      "include_colab_link": true
    },
    "kernelspec": {
      "name": "python3",
      "display_name": "Python 3"
    },
    "language_info": {
      "name": "python"
    },
    "widgets": {
      "application/vnd.jupyter.widget-state+json": {
        "878c423f961c404f9ed93c3cf27fe195": {
          "model_module": "@jupyter-widgets/controls",
          "model_name": "HBoxModel",
          "model_module_version": "1.5.0",
          "state": {
            "_dom_classes": [],
            "_model_module": "@jupyter-widgets/controls",
            "_model_module_version": "1.5.0",
            "_model_name": "HBoxModel",
            "_view_count": null,
            "_view_module": "@jupyter-widgets/controls",
            "_view_module_version": "1.5.0",
            "_view_name": "HBoxView",
            "box_style": "",
            "children": [
              "IPY_MODEL_308f92a2a47a46b987b00b4b21253a44",
              "IPY_MODEL_cf692f4077c9489ea51eac75319d33bd",
              "IPY_MODEL_dd699e8818a844aeb1d9c596a65283a7"
            ],
            "layout": "IPY_MODEL_a40242e73c114cbb8e1cb39d2d0d029a"
          }
        },
        "308f92a2a47a46b987b00b4b21253a44": {
          "model_module": "@jupyter-widgets/controls",
          "model_name": "HTMLModel",
          "model_module_version": "1.5.0",
          "state": {
            "_dom_classes": [],
            "_model_module": "@jupyter-widgets/controls",
            "_model_module_version": "1.5.0",
            "_model_name": "HTMLModel",
            "_view_count": null,
            "_view_module": "@jupyter-widgets/controls",
            "_view_module_version": "1.5.0",
            "_view_name": "HTMLView",
            "description": "",
            "description_tooltip": null,
            "layout": "IPY_MODEL_f9a78dae74674884995924bf1cd8dbb2",
            "placeholder": "​",
            "style": "IPY_MODEL_0ccd025a445d4d20ac364c479ce49cb0",
            "value": " 97%"
          }
        },
        "cf692f4077c9489ea51eac75319d33bd": {
          "model_module": "@jupyter-widgets/controls",
          "model_name": "FloatProgressModel",
          "model_module_version": "1.5.0",
          "state": {
            "_dom_classes": [],
            "_model_module": "@jupyter-widgets/controls",
            "_model_module_version": "1.5.0",
            "_model_name": "FloatProgressModel",
            "_view_count": null,
            "_view_module": "@jupyter-widgets/controls",
            "_view_module_version": "1.5.0",
            "_view_name": "ProgressView",
            "bar_style": "",
            "description": "",
            "description_tooltip": null,
            "layout": "IPY_MODEL_53fdf758a13f4c2c94ac86f0fbc4e75f",
            "max": 30,
            "min": 0,
            "orientation": "horizontal",
            "style": "IPY_MODEL_95c7cee5d19a461187aa053dc9c4c72f",
            "value": 29
          }
        },
        "dd699e8818a844aeb1d9c596a65283a7": {
          "model_module": "@jupyter-widgets/controls",
          "model_name": "HTMLModel",
          "model_module_version": "1.5.0",
          "state": {
            "_dom_classes": [],
            "_model_module": "@jupyter-widgets/controls",
            "_model_module_version": "1.5.0",
            "_model_name": "HTMLModel",
            "_view_count": null,
            "_view_module": "@jupyter-widgets/controls",
            "_view_module_version": "1.5.0",
            "_view_name": "HTMLView",
            "description": "",
            "description_tooltip": null,
            "layout": "IPY_MODEL_81fdba645dc4405eac4da1a496601231",
            "placeholder": "​",
            "style": "IPY_MODEL_7a5e75465d06417fb656ade437ce83ae",
            "value": " 29/30 [1:13:11&lt;02:30, 150.05s/it]"
          }
        },
        "a40242e73c114cbb8e1cb39d2d0d029a": {
          "model_module": "@jupyter-widgets/base",
          "model_name": "LayoutModel",
          "model_module_version": "1.2.0",
          "state": {
            "_model_module": "@jupyter-widgets/base",
            "_model_module_version": "1.2.0",
            "_model_name": "LayoutModel",
            "_view_count": null,
            "_view_module": "@jupyter-widgets/base",
            "_view_module_version": "1.2.0",
            "_view_name": "LayoutView",
            "align_content": null,
            "align_items": null,
            "align_self": null,
            "border": null,
            "bottom": null,
            "display": null,
            "flex": null,
            "flex_flow": null,
            "grid_area": null,
            "grid_auto_columns": null,
            "grid_auto_flow": null,
            "grid_auto_rows": null,
            "grid_column": null,
            "grid_gap": null,
            "grid_row": null,
            "grid_template_areas": null,
            "grid_template_columns": null,
            "grid_template_rows": null,
            "height": null,
            "justify_content": null,
            "justify_items": null,
            "left": null,
            "margin": null,
            "max_height": null,
            "max_width": null,
            "min_height": null,
            "min_width": null,
            "object_fit": null,
            "object_position": null,
            "order": null,
            "overflow": null,
            "overflow_x": null,
            "overflow_y": null,
            "padding": null,
            "right": null,
            "top": null,
            "visibility": null,
            "width": null
          }
        },
        "f9a78dae74674884995924bf1cd8dbb2": {
          "model_module": "@jupyter-widgets/base",
          "model_name": "LayoutModel",
          "model_module_version": "1.2.0",
          "state": {
            "_model_module": "@jupyter-widgets/base",
            "_model_module_version": "1.2.0",
            "_model_name": "LayoutModel",
            "_view_count": null,
            "_view_module": "@jupyter-widgets/base",
            "_view_module_version": "1.2.0",
            "_view_name": "LayoutView",
            "align_content": null,
            "align_items": null,
            "align_self": null,
            "border": null,
            "bottom": null,
            "display": null,
            "flex": null,
            "flex_flow": null,
            "grid_area": null,
            "grid_auto_columns": null,
            "grid_auto_flow": null,
            "grid_auto_rows": null,
            "grid_column": null,
            "grid_gap": null,
            "grid_row": null,
            "grid_template_areas": null,
            "grid_template_columns": null,
            "grid_template_rows": null,
            "height": null,
            "justify_content": null,
            "justify_items": null,
            "left": null,
            "margin": null,
            "max_height": null,
            "max_width": null,
            "min_height": null,
            "min_width": null,
            "object_fit": null,
            "object_position": null,
            "order": null,
            "overflow": null,
            "overflow_x": null,
            "overflow_y": null,
            "padding": null,
            "right": null,
            "top": null,
            "visibility": null,
            "width": null
          }
        },
        "0ccd025a445d4d20ac364c479ce49cb0": {
          "model_module": "@jupyter-widgets/controls",
          "model_name": "DescriptionStyleModel",
          "model_module_version": "1.5.0",
          "state": {
            "_model_module": "@jupyter-widgets/controls",
            "_model_module_version": "1.5.0",
            "_model_name": "DescriptionStyleModel",
            "_view_count": null,
            "_view_module": "@jupyter-widgets/base",
            "_view_module_version": "1.2.0",
            "_view_name": "StyleView",
            "description_width": ""
          }
        },
        "53fdf758a13f4c2c94ac86f0fbc4e75f": {
          "model_module": "@jupyter-widgets/base",
          "model_name": "LayoutModel",
          "model_module_version": "1.2.0",
          "state": {
            "_model_module": "@jupyter-widgets/base",
            "_model_module_version": "1.2.0",
            "_model_name": "LayoutModel",
            "_view_count": null,
            "_view_module": "@jupyter-widgets/base",
            "_view_module_version": "1.2.0",
            "_view_name": "LayoutView",
            "align_content": null,
            "align_items": null,
            "align_self": null,
            "border": null,
            "bottom": null,
            "display": null,
            "flex": null,
            "flex_flow": null,
            "grid_area": null,
            "grid_auto_columns": null,
            "grid_auto_flow": null,
            "grid_auto_rows": null,
            "grid_column": null,
            "grid_gap": null,
            "grid_row": null,
            "grid_template_areas": null,
            "grid_template_columns": null,
            "grid_template_rows": null,
            "height": null,
            "justify_content": null,
            "justify_items": null,
            "left": null,
            "margin": null,
            "max_height": null,
            "max_width": null,
            "min_height": null,
            "min_width": null,
            "object_fit": null,
            "object_position": null,
            "order": null,
            "overflow": null,
            "overflow_x": null,
            "overflow_y": null,
            "padding": null,
            "right": null,
            "top": null,
            "visibility": null,
            "width": null
          }
        },
        "95c7cee5d19a461187aa053dc9c4c72f": {
          "model_module": "@jupyter-widgets/controls",
          "model_name": "ProgressStyleModel",
          "model_module_version": "1.5.0",
          "state": {
            "_model_module": "@jupyter-widgets/controls",
            "_model_module_version": "1.5.0",
            "_model_name": "ProgressStyleModel",
            "_view_count": null,
            "_view_module": "@jupyter-widgets/base",
            "_view_module_version": "1.2.0",
            "_view_name": "StyleView",
            "bar_color": null,
            "description_width": ""
          }
        },
        "81fdba645dc4405eac4da1a496601231": {
          "model_module": "@jupyter-widgets/base",
          "model_name": "LayoutModel",
          "model_module_version": "1.2.0",
          "state": {
            "_model_module": "@jupyter-widgets/base",
            "_model_module_version": "1.2.0",
            "_model_name": "LayoutModel",
            "_view_count": null,
            "_view_module": "@jupyter-widgets/base",
            "_view_module_version": "1.2.0",
            "_view_name": "LayoutView",
            "align_content": null,
            "align_items": null,
            "align_self": null,
            "border": null,
            "bottom": null,
            "display": null,
            "flex": null,
            "flex_flow": null,
            "grid_area": null,
            "grid_auto_columns": null,
            "grid_auto_flow": null,
            "grid_auto_rows": null,
            "grid_column": null,
            "grid_gap": null,
            "grid_row": null,
            "grid_template_areas": null,
            "grid_template_columns": null,
            "grid_template_rows": null,
            "height": null,
            "justify_content": null,
            "justify_items": null,
            "left": null,
            "margin": null,
            "max_height": null,
            "max_width": null,
            "min_height": null,
            "min_width": null,
            "object_fit": null,
            "object_position": null,
            "order": null,
            "overflow": null,
            "overflow_x": null,
            "overflow_y": null,
            "padding": null,
            "right": null,
            "top": null,
            "visibility": null,
            "width": null
          }
        },
        "7a5e75465d06417fb656ade437ce83ae": {
          "model_module": "@jupyter-widgets/controls",
          "model_name": "DescriptionStyleModel",
          "model_module_version": "1.5.0",
          "state": {
            "_model_module": "@jupyter-widgets/controls",
            "_model_module_version": "1.5.0",
            "_model_name": "DescriptionStyleModel",
            "_view_count": null,
            "_view_module": "@jupyter-widgets/base",
            "_view_module_version": "1.2.0",
            "_view_name": "StyleView",
            "description_width": ""
          }
        }
      }
    }
  },
  "cells": [
    {
      "cell_type": "markdown",
      "metadata": {
        "id": "view-in-github",
        "colab_type": "text"
      },
      "source": [
        "<a href=\"https://colab.research.google.com/github/choycoy/choycoy.github.io/blob/master/lightgcn.ipynb\" target=\"_parent\"><img src=\"https://colab.research.google.com/assets/colab-badge.svg\" alt=\"Open In Colab\"/></a>"
      ]
    },
    {
      "cell_type": "code",
      "execution_count": 2,
      "metadata": {
        "colab": {
          "base_uri": "https://localhost:8080/",
          "height": 36
        },
        "id": "hBXTtaQFN6KH",
        "outputId": "02b28d77-1c93-469b-f4c3-610e925e7f04"
      },
      "outputs": [
        {
          "output_type": "execute_result",
          "data": {
            "text/plain": [
              "'2.0.1+cu118'"
            ],
            "application/vnd.google.colaboratory.intrinsic+json": {
              "type": "string"
            }
          },
          "metadata": {},
          "execution_count": 2
        }
      ],
      "source": [
        "import torch\n",
        "torch.__version__"
      ]
    },
    {
      "cell_type": "code",
      "source": [
        "import pandas as pd\n",
        "pd.set_option('display.max_colwidth', None)\n",
        "from sklearn import preprocessing as pp\n",
        "from sklearn.model_selection import train_test_split\n",
        "import scipy.sparse as sp\n",
        "import numpy as np\n",
        "import random\n",
        "import torch.nn as nn\n",
        "from torch.utils.data import Dataset, DataLoader\n",
        "import time\n",
        "import matplotlib.pyplot as plt\n",
        "from tqdm.notebook import tqdm"
      ],
      "metadata": {
        "id": "k9TW73WNOIa-"
      },
      "execution_count": 3,
      "outputs": []
    },
    {
      "cell_type": "code",
      "source": [
        "from google.colab import drive\n",
        "drive.mount('/content/drive')"
      ],
      "metadata": {
        "colab": {
          "base_uri": "https://localhost:8080/"
        },
        "id": "GWjTKdjxOJC6",
        "outputId": "15dcf8ea-2ea4-44b8-92a8-d5571da1f50b"
      },
      "execution_count": 4,
      "outputs": [
        {
          "output_type": "stream",
          "name": "stdout",
          "text": [
            "Drive already mounted at /content/drive; to attempt to forcibly remount, call drive.mount(\"/content/drive\", force_remount=True).\n"
          ]
        }
      ]
    },
    {
      "cell_type": "code",
      "source": [
        "columns_name=['stars','user_id','item_id']\n",
        "df = pd.read_csv(\"/content/drive/My Drive/final/m-25m/yelp_academic_dataset_review - Copy (2).csv\",sep=\",\",names=columns_name)\n",
        "df = df.drop(df.index[0])\n",
        "\n",
        "print(len(df))\n",
        "display(df.head(5))"
      ],
      "metadata": {
        "colab": {
          "base_uri": "https://localhost:8080/",
          "height": 224
        },
        "id": "fexUzMbvORL5",
        "outputId": "135abe94-a48d-49c6-c55e-b45e32bad69f"
      },
      "execution_count": 73,
      "outputs": [
        {
          "output_type": "stream",
          "name": "stdout",
          "text": [
            "121559\n"
          ]
        },
        {
          "output_type": "display_data",
          "data": {
            "text/plain": [
              "  stars user_id item_id\n",
              "1     3       1       1\n",
              "2     5       2       2\n",
              "3     3       3       3\n",
              "4     5       4       4\n",
              "5     4       5       5"
            ],
            "text/html": [
              "\n",
              "  <div id=\"df-6c59d8b5-d1f1-42b8-96de-2b916f2eeac8\">\n",
              "    <div class=\"colab-df-container\">\n",
              "      <div>\n",
              "<style scoped>\n",
              "    .dataframe tbody tr th:only-of-type {\n",
              "        vertical-align: middle;\n",
              "    }\n",
              "\n",
              "    .dataframe tbody tr th {\n",
              "        vertical-align: top;\n",
              "    }\n",
              "\n",
              "    .dataframe thead th {\n",
              "        text-align: right;\n",
              "    }\n",
              "</style>\n",
              "<table border=\"1\" class=\"dataframe\">\n",
              "  <thead>\n",
              "    <tr style=\"text-align: right;\">\n",
              "      <th></th>\n",
              "      <th>stars</th>\n",
              "      <th>user_id</th>\n",
              "      <th>item_id</th>\n",
              "    </tr>\n",
              "  </thead>\n",
              "  <tbody>\n",
              "    <tr>\n",
              "      <th>1</th>\n",
              "      <td>3</td>\n",
              "      <td>1</td>\n",
              "      <td>1</td>\n",
              "    </tr>\n",
              "    <tr>\n",
              "      <th>2</th>\n",
              "      <td>5</td>\n",
              "      <td>2</td>\n",
              "      <td>2</td>\n",
              "    </tr>\n",
              "    <tr>\n",
              "      <th>3</th>\n",
              "      <td>3</td>\n",
              "      <td>3</td>\n",
              "      <td>3</td>\n",
              "    </tr>\n",
              "    <tr>\n",
              "      <th>4</th>\n",
              "      <td>5</td>\n",
              "      <td>4</td>\n",
              "      <td>4</td>\n",
              "    </tr>\n",
              "    <tr>\n",
              "      <th>5</th>\n",
              "      <td>4</td>\n",
              "      <td>5</td>\n",
              "      <td>5</td>\n",
              "    </tr>\n",
              "  </tbody>\n",
              "</table>\n",
              "</div>\n",
              "      <button class=\"colab-df-convert\" onclick=\"convertToInteractive('df-6c59d8b5-d1f1-42b8-96de-2b916f2eeac8')\"\n",
              "              title=\"Convert this dataframe to an interactive table.\"\n",
              "              style=\"display:none;\">\n",
              "        \n",
              "  <svg xmlns=\"http://www.w3.org/2000/svg\" height=\"24px\"viewBox=\"0 0 24 24\"\n",
              "       width=\"24px\">\n",
              "    <path d=\"M0 0h24v24H0V0z\" fill=\"none\"/>\n",
              "    <path d=\"M18.56 5.44l.94 2.06.94-2.06 2.06-.94-2.06-.94-.94-2.06-.94 2.06-2.06.94zm-11 1L8.5 8.5l.94-2.06 2.06-.94-2.06-.94L8.5 2.5l-.94 2.06-2.06.94zm10 10l.94 2.06.94-2.06 2.06-.94-2.06-.94-.94-2.06-.94 2.06-2.06.94z\"/><path d=\"M17.41 7.96l-1.37-1.37c-.4-.4-.92-.59-1.43-.59-.52 0-1.04.2-1.43.59L10.3 9.45l-7.72 7.72c-.78.78-.78 2.05 0 2.83L4 21.41c.39.39.9.59 1.41.59.51 0 1.02-.2 1.41-.59l7.78-7.78 2.81-2.81c.8-.78.8-2.07 0-2.86zM5.41 20L4 18.59l7.72-7.72 1.47 1.35L5.41 20z\"/>\n",
              "  </svg>\n",
              "      </button>\n",
              "      \n",
              "  <style>\n",
              "    .colab-df-container {\n",
              "      display:flex;\n",
              "      flex-wrap:wrap;\n",
              "      gap: 12px;\n",
              "    }\n",
              "\n",
              "    .colab-df-convert {\n",
              "      background-color: #E8F0FE;\n",
              "      border: none;\n",
              "      border-radius: 50%;\n",
              "      cursor: pointer;\n",
              "      display: none;\n",
              "      fill: #1967D2;\n",
              "      height: 32px;\n",
              "      padding: 0 0 0 0;\n",
              "      width: 32px;\n",
              "    }\n",
              "\n",
              "    .colab-df-convert:hover {\n",
              "      background-color: #E2EBFA;\n",
              "      box-shadow: 0px 1px 2px rgba(60, 64, 67, 0.3), 0px 1px 3px 1px rgba(60, 64, 67, 0.15);\n",
              "      fill: #174EA6;\n",
              "    }\n",
              "\n",
              "    [theme=dark] .colab-df-convert {\n",
              "      background-color: #3B4455;\n",
              "      fill: #D2E3FC;\n",
              "    }\n",
              "\n",
              "    [theme=dark] .colab-df-convert:hover {\n",
              "      background-color: #434B5C;\n",
              "      box-shadow: 0px 1px 3px 1px rgba(0, 0, 0, 0.15);\n",
              "      filter: drop-shadow(0px 1px 2px rgba(0, 0, 0, 0.3));\n",
              "      fill: #FFFFFF;\n",
              "    }\n",
              "  </style>\n",
              "\n",
              "      <script>\n",
              "        const buttonEl =\n",
              "          document.querySelector('#df-6c59d8b5-d1f1-42b8-96de-2b916f2eeac8 button.colab-df-convert');\n",
              "        buttonEl.style.display =\n",
              "          google.colab.kernel.accessAllowed ? 'block' : 'none';\n",
              "\n",
              "        async function convertToInteractive(key) {\n",
              "          const element = document.querySelector('#df-6c59d8b5-d1f1-42b8-96de-2b916f2eeac8');\n",
              "          const dataTable =\n",
              "            await google.colab.kernel.invokeFunction('convertToInteractive',\n",
              "                                                     [key], {});\n",
              "          if (!dataTable) return;\n",
              "\n",
              "          const docLinkHtml = 'Like what you see? Visit the ' +\n",
              "            '<a target=\"_blank\" href=https://colab.research.google.com/notebooks/data_table.ipynb>data table notebook</a>'\n",
              "            + ' to learn more about interactive tables.';\n",
              "          element.innerHTML = '';\n",
              "          dataTable['output_type'] = 'display_data';\n",
              "          await google.colab.output.renderOutput(dataTable, element);\n",
              "          const docLink = document.createElement('div');\n",
              "          docLink.innerHTML = docLinkHtml;\n",
              "          element.appendChild(docLink);\n",
              "        }\n",
              "      </script>\n",
              "    </div>\n",
              "  </div>\n",
              "  "
            ]
          },
          "metadata": {}
        }
      ]
    },
    {
      "cell_type": "code",
      "source": [
        "display(df.head(5))"
      ],
      "metadata": {
        "colab": {
          "base_uri": "https://localhost:8080/",
          "height": 206
        },
        "id": "Y8KbWaFCuBYM",
        "outputId": "74081367-7d57-4559-8cda-3ab22b4c14d9"
      },
      "execution_count": 54,
      "outputs": [
        {
          "output_type": "display_data",
          "data": {
            "text/plain": [
              "  stars                    user_id                    item_id\n",
              "1     3  b'mh_-eMZ6K5RLWhZyISBhwA'  b'XQfwVwDr-v0ZS3_CbbE5Xw'\n",
              "2     5  b'OyoGAe7OKpv6SyGZT5g77Q'  b'7ATYjTIgM3jUlt4UM3IypQ'\n",
              "3     3  b'8g_iMtfSiwikVnbP2etR0A'  b'YjUWPpI6HXG530lwP-fb2A'\n",
              "4     5  b'_7bHUi9Uuf5__HHc_Q8guQ'  b'kxX2SOes4o-D3ZQBkiMRfA'\n",
              "5     4  b'bcjbaE6dDog4jkNY91ncLQ'  b'e4Vwtrqf-wpJfwesgvdgxQ'"
            ],
            "text/html": [
              "\n",
              "  <div id=\"df-0637182d-da55-47fe-a7a2-0d8d0eeea239\">\n",
              "    <div class=\"colab-df-container\">\n",
              "      <div>\n",
              "<style scoped>\n",
              "    .dataframe tbody tr th:only-of-type {\n",
              "        vertical-align: middle;\n",
              "    }\n",
              "\n",
              "    .dataframe tbody tr th {\n",
              "        vertical-align: top;\n",
              "    }\n",
              "\n",
              "    .dataframe thead th {\n",
              "        text-align: right;\n",
              "    }\n",
              "</style>\n",
              "<table border=\"1\" class=\"dataframe\">\n",
              "  <thead>\n",
              "    <tr style=\"text-align: right;\">\n",
              "      <th></th>\n",
              "      <th>stars</th>\n",
              "      <th>user_id</th>\n",
              "      <th>item_id</th>\n",
              "    </tr>\n",
              "  </thead>\n",
              "  <tbody>\n",
              "    <tr>\n",
              "      <th>1</th>\n",
              "      <td>3</td>\n",
              "      <td>b'mh_-eMZ6K5RLWhZyISBhwA'</td>\n",
              "      <td>b'XQfwVwDr-v0ZS3_CbbE5Xw'</td>\n",
              "    </tr>\n",
              "    <tr>\n",
              "      <th>2</th>\n",
              "      <td>5</td>\n",
              "      <td>b'OyoGAe7OKpv6SyGZT5g77Q'</td>\n",
              "      <td>b'7ATYjTIgM3jUlt4UM3IypQ'</td>\n",
              "    </tr>\n",
              "    <tr>\n",
              "      <th>3</th>\n",
              "      <td>3</td>\n",
              "      <td>b'8g_iMtfSiwikVnbP2etR0A'</td>\n",
              "      <td>b'YjUWPpI6HXG530lwP-fb2A'</td>\n",
              "    </tr>\n",
              "    <tr>\n",
              "      <th>4</th>\n",
              "      <td>5</td>\n",
              "      <td>b'_7bHUi9Uuf5__HHc_Q8guQ'</td>\n",
              "      <td>b'kxX2SOes4o-D3ZQBkiMRfA'</td>\n",
              "    </tr>\n",
              "    <tr>\n",
              "      <th>5</th>\n",
              "      <td>4</td>\n",
              "      <td>b'bcjbaE6dDog4jkNY91ncLQ'</td>\n",
              "      <td>b'e4Vwtrqf-wpJfwesgvdgxQ'</td>\n",
              "    </tr>\n",
              "  </tbody>\n",
              "</table>\n",
              "</div>\n",
              "      <button class=\"colab-df-convert\" onclick=\"convertToInteractive('df-0637182d-da55-47fe-a7a2-0d8d0eeea239')\"\n",
              "              title=\"Convert this dataframe to an interactive table.\"\n",
              "              style=\"display:none;\">\n",
              "        \n",
              "  <svg xmlns=\"http://www.w3.org/2000/svg\" height=\"24px\"viewBox=\"0 0 24 24\"\n",
              "       width=\"24px\">\n",
              "    <path d=\"M0 0h24v24H0V0z\" fill=\"none\"/>\n",
              "    <path d=\"M18.56 5.44l.94 2.06.94-2.06 2.06-.94-2.06-.94-.94-2.06-.94 2.06-2.06.94zm-11 1L8.5 8.5l.94-2.06 2.06-.94-2.06-.94L8.5 2.5l-.94 2.06-2.06.94zm10 10l.94 2.06.94-2.06 2.06-.94-2.06-.94-.94-2.06-.94 2.06-2.06.94z\"/><path d=\"M17.41 7.96l-1.37-1.37c-.4-.4-.92-.59-1.43-.59-.52 0-1.04.2-1.43.59L10.3 9.45l-7.72 7.72c-.78.78-.78 2.05 0 2.83L4 21.41c.39.39.9.59 1.41.59.51 0 1.02-.2 1.41-.59l7.78-7.78 2.81-2.81c.8-.78.8-2.07 0-2.86zM5.41 20L4 18.59l7.72-7.72 1.47 1.35L5.41 20z\"/>\n",
              "  </svg>\n",
              "      </button>\n",
              "      \n",
              "  <style>\n",
              "    .colab-df-container {\n",
              "      display:flex;\n",
              "      flex-wrap:wrap;\n",
              "      gap: 12px;\n",
              "    }\n",
              "\n",
              "    .colab-df-convert {\n",
              "      background-color: #E8F0FE;\n",
              "      border: none;\n",
              "      border-radius: 50%;\n",
              "      cursor: pointer;\n",
              "      display: none;\n",
              "      fill: #1967D2;\n",
              "      height: 32px;\n",
              "      padding: 0 0 0 0;\n",
              "      width: 32px;\n",
              "    }\n",
              "\n",
              "    .colab-df-convert:hover {\n",
              "      background-color: #E2EBFA;\n",
              "      box-shadow: 0px 1px 2px rgba(60, 64, 67, 0.3), 0px 1px 3px 1px rgba(60, 64, 67, 0.15);\n",
              "      fill: #174EA6;\n",
              "    }\n",
              "\n",
              "    [theme=dark] .colab-df-convert {\n",
              "      background-color: #3B4455;\n",
              "      fill: #D2E3FC;\n",
              "    }\n",
              "\n",
              "    [theme=dark] .colab-df-convert:hover {\n",
              "      background-color: #434B5C;\n",
              "      box-shadow: 0px 1px 3px 1px rgba(0, 0, 0, 0.15);\n",
              "      filter: drop-shadow(0px 1px 2px rgba(0, 0, 0, 0.3));\n",
              "      fill: #FFFFFF;\n",
              "    }\n",
              "  </style>\n",
              "\n",
              "      <script>\n",
              "        const buttonEl =\n",
              "          document.querySelector('#df-0637182d-da55-47fe-a7a2-0d8d0eeea239 button.colab-df-convert');\n",
              "        buttonEl.style.display =\n",
              "          google.colab.kernel.accessAllowed ? 'block' : 'none';\n",
              "\n",
              "        async function convertToInteractive(key) {\n",
              "          const element = document.querySelector('#df-0637182d-da55-47fe-a7a2-0d8d0eeea239');\n",
              "          const dataTable =\n",
              "            await google.colab.kernel.invokeFunction('convertToInteractive',\n",
              "                                                     [key], {});\n",
              "          if (!dataTable) return;\n",
              "\n",
              "          const docLinkHtml = 'Like what you see? Visit the ' +\n",
              "            '<a target=\"_blank\" href=https://colab.research.google.com/notebooks/data_table.ipynb>data table notebook</a>'\n",
              "            + ' to learn more about interactive tables.';\n",
              "          element.innerHTML = '';\n",
              "          dataTable['output_type'] = 'display_data';\n",
              "          await google.colab.output.renderOutput(dataTable, element);\n",
              "          const docLink = document.createElement('div');\n",
              "          docLink.innerHTML = docLinkHtml;\n",
              "          element.appendChild(docLink);\n",
              "        }\n",
              "      </script>\n",
              "    </div>\n",
              "  </div>\n",
              "  "
            ]
          },
          "metadata": {}
        }
      ]
    },
    {
      "cell_type": "markdown",
      "source": [],
      "metadata": {
        "id": "z5GIEACcjLjD"
      }
    },
    {
      "cell_type": "code",
      "source": [
        "# Convert 'rating' column to numeric type\n",
        "df['stars'] = pd.to_numeric(df['stars'], errors='coerce')\n",
        "\n",
        "# Filter the DataFrame for ratings greater than or equal to 3\n",
        "df = df[df['stars'] >= 3]\n",
        "\n",
        "# Print the length of the filtered DataFrame\n",
        "print(len(df))\n"
      ],
      "metadata": {
        "colab": {
          "base_uri": "https://localhost:8080/"
        },
        "id": "S1sQVG_0POW9",
        "outputId": "fb66c978-d156-476c-d630-8addab861249"
      },
      "execution_count": 74,
      "outputs": [
        {
          "output_type": "stream",
          "name": "stdout",
          "text": [
            "98482\n"
          ]
        }
      ]
    },
    {
      "cell_type": "code",
      "source": [
        "df['item_id'] = df['item_id'].astype(int)\n",
        "df['user_id'] = df['user_id'].astype(int)"
      ],
      "metadata": {
        "id": "BHeb4Ves1zHn"
      },
      "execution_count": 75,
      "outputs": []
    },
    {
      "cell_type": "markdown",
      "source": [],
      "metadata": {
        "id": "tlouLILcp6HQ"
      }
    },
    {
      "cell_type": "code",
      "source": [
        "print(\"Rating Distribution\")\n",
        "df.groupby(['stars'])['stars'].count()"
      ],
      "metadata": {
        "colab": {
          "base_uri": "https://localhost:8080/"
        },
        "id": "cX60XriZPid5",
        "outputId": "3f1aae02-cd0b-4113-c6e4-af4cb05981b2"
      },
      "execution_count": 76,
      "outputs": [
        {
          "output_type": "stream",
          "name": "stdout",
          "text": [
            "Rating Distribution\n"
          ]
        },
        {
          "output_type": "execute_result",
          "data": {
            "text/plain": [
              "stars\n",
              "3    13729\n",
              "4    30762\n",
              "5    53991\n",
              "Name: stars, dtype: int64"
            ]
          },
          "metadata": {},
          "execution_count": 76
        }
      ]
    },
    {
      "cell_type": "code",
      "source": [
        "train, test = train_test_split(df.values, test_size=0.2, random_state = 16)\n",
        "train = pd.DataFrame(train, columns = df.columns)\n",
        "test = pd.DataFrame(test, columns = df.columns)"
      ],
      "metadata": {
        "id": "j57e5qvnPwsb"
      },
      "execution_count": 77,
      "outputs": []
    },
    {
      "cell_type": "code",
      "source": [],
      "metadata": {
        "id": "P8LKN8_n2cXD"
      },
      "execution_count": null,
      "outputs": []
    },
    {
      "cell_type": "code",
      "source": [
        "le_user = pp.LabelEncoder()\n",
        "le_item = pp.LabelEncoder()\n",
        "\n",
        "train['user_id_idx'] = le_user.fit_transform(train['user_id'].values)\n",
        "train['item_id_idx'] = le_item.fit_transform(train['item_id'].values)"
      ],
      "metadata": {
        "id": "BJe8pk6MQIx0"
      },
      "execution_count": 78,
      "outputs": []
    },
    {
      "cell_type": "code",
      "source": [
        "train_user_ids = train['user_id'].unique()\n",
        "train_item_ids = train['item_id'].unique()\n",
        "\n",
        "print(len(train_user_ids), len(train_item_ids))\n",
        "\n",
        "test = test[(test['user_id'].isin(train_user_ids)) & (test['item_id'].isin(train_item_ids))]\n",
        "print(len(test))"
      ],
      "metadata": {
        "colab": {
          "base_uri": "https://localhost:8080/"
        },
        "id": "v_0CRbVhj76l",
        "outputId": "119fb301-1108-4e84-b2ea-c12bfbd3a4b2"
      },
      "execution_count": 79,
      "outputs": [
        {
          "output_type": "stream",
          "name": "stdout",
          "text": [
            "63373 8990\n",
            "5842\n"
          ]
        }
      ]
    },
    {
      "cell_type": "code",
      "source": [
        "test['user_id_idx'] = le_user.transform(test['user_id'].values)\n",
        "test['item_id_idx'] = le_item.transform(test['item_id'].values)"
      ],
      "metadata": {
        "id": "eBY91xnmcw2b"
      },
      "execution_count": 80,
      "outputs": []
    },
    {
      "cell_type": "markdown",
      "source": [],
      "metadata": {
        "id": "FRPs5wCZ2eOi"
      }
    },
    {
      "cell_type": "code",
      "source": [
        "n_users = train['user_id_idx'].nunique()\n",
        "n_items = train['item_id_idx'].nunique()\n",
        "print(\"Number of Unique Users : \", n_users)\n",
        "print(\"Number of unique Items : \", n_items)"
      ],
      "metadata": {
        "colab": {
          "base_uri": "https://localhost:8080/"
        },
        "id": "l_tRliNjQwD9",
        "outputId": "99911fde-55a5-49cc-c46d-5b01156eb0be"
      },
      "execution_count": 81,
      "outputs": [
        {
          "output_type": "stream",
          "name": "stdout",
          "text": [
            "Number of Unique Users :  63373\n",
            "Number of unique Items :  8990\n"
          ]
        }
      ]
    },
    {
      "cell_type": "code",
      "source": [
        "latent_dim = 64\n",
        "n_layers = 3  "
      ],
      "metadata": {
        "id": "D4iFcce9wtyJ"
      },
      "execution_count": 66,
      "outputs": []
    },
    {
      "cell_type": "code",
      "source": [
        "def convert_to_sparse_tensor(dok_mtrx):\n",
        "    \n",
        "    dok_mtrx_coo = dok_mtrx.tocoo().astype(np.float32)\n",
        "    values = dok_mtrx_coo.data\n",
        "    indices = np.vstack((dok_mtrx_coo.row, dok_mtrx_coo.col))\n",
        "\n",
        "    i = torch.LongTensor(indices)\n",
        "    v = torch.FloatTensor(values)\n",
        "    shape = dok_mtrx_coo.shape\n",
        "\n",
        "    dok_mtrx_sparse_tensor = torch.sparse.FloatTensor(i, v, torch.Size(shape))\n",
        "\n",
        "    return dok_mtrx_sparse_tensor"
      ],
      "metadata": {
        "id": "a3cO8zEcwuq2"
      },
      "execution_count": 16,
      "outputs": []
    },
    {
      "cell_type": "code",
      "source": [
        "def get_metrics(user_Embed_wts, item_Embed_wts, n_users, n_items, train_data, test_data, K):\n",
        "\n",
        "    user_Embedding = nn.Embedding(user_Embed_wts.size()[0], user_Embed_wts.size()[1], _weight = user_Embed_wts)\n",
        "    item_Embedding = nn.Embedding(item_Embed_wts.size()[0], item_Embed_wts.size()[1], _weight = item_Embed_wts)\n",
        "\n",
        "    test_user_ids = torch.LongTensor(test_data['user_id_idx'].unique())\n",
        "\n",
        "    relevance_score = torch.matmul(user_Embed_wts, torch.transpose(item_Embed_wts,0, 1))\n",
        "\n",
        "    R = sp.dok_matrix((n_users, n_items), dtype = np.float32)\n",
        "    R[train_data['user_id_idx'], train_data['item_id_idx']] = 1.0\n",
        "\n",
        "    R_tensor = convert_to_sparse_tensor(R)\n",
        "    R_tensor_dense = R_tensor.to_dense()\n",
        "\n",
        "    R_tensor_dense = R_tensor_dense*(-np.inf)\n",
        "    R_tensor_dense = torch.nan_to_num(R_tensor_dense, nan=0.0)\n",
        "\n",
        "    relevance_score = relevance_score+R_tensor_dense\n",
        "\n",
        "    topk_relevance_score = torch.topk(relevance_score, K).values\n",
        "    topk_relevance_indices = torch.topk(relevance_score, K).indices\n",
        "\n",
        "    topk_relevance_indices_df = pd.DataFrame(topk_relevance_indices.numpy(),columns =['top_indx_'+str(x+1) for x in range(K)])\n",
        "\n",
        "    topk_relevance_indices_df['user_ID'] = topk_relevance_indices_df.index\n",
        " \n",
        "    topk_relevance_indices_df['top_rlvnt_itm'] = topk_relevance_indices_df[['top_indx_'+str(x+1) for x in range(K)]].values.tolist()\n",
        "    topk_relevance_indices_df = topk_relevance_indices_df[['user_ID','top_rlvnt_itm']]\n",
        "\n",
        "    test_interacted_items = test_data.groupby('user_id_idx')['item_id_idx'].apply(list).reset_index()\n",
        "\n",
        "    metrics_df = pd.merge(test_interacted_items,topk_relevance_indices_df, how= 'left', left_on = 'user_id_idx',right_on = ['user_ID'])\n",
        "    metrics_df['intrsctn_itm'] = [list(set(a).intersection(b)) for a, b in zip(metrics_df.item_id_idx, metrics_df.top_rlvnt_itm)]\n",
        "\n",
        "\n",
        "    metrics_df['recall'] = metrics_df.apply(lambda x : len(x['intrsctn_itm'])/len(x['item_id_idx']), axis = 1) \n",
        "    metrics_df['precision'] = metrics_df.apply(lambda x : len(x['intrsctn_itm'])/K, axis = 1)\n",
        "\n",
        "    def get_hit_list(item_id_idx, top_rlvnt_itm):\n",
        "        return [1 if x in set(item_id_idx) else 0 for x in top_rlvnt_itm ]\n",
        "\n",
        "    metrics_df['hit_list'] = metrics_df.apply(lambda x : get_hit_list(x['item_id_idx'], x['top_rlvnt_itm']), axis = 1)\n",
        "\n",
        "    def get_dcg_idcg(item_id_idx, hit_list):\n",
        "        idcg  = sum([1 / np.log1p(idx+1) for idx in range(min(len(item_id_idx),len(hit_list)))])\n",
        "        dcg =  sum([hit / np.log1p(idx+1) for idx, hit in enumerate(hit_list)])\n",
        "        return dcg/idcg\n",
        "\n",
        "    def get_cumsum(hit_list):\n",
        "        return np.cumsum(hit_list)\n",
        "\n",
        "    def get_map(item_id_idx, hit_list, hit_list_cumsum):\n",
        "        return sum([hit_cumsum*hit/(idx+1) for idx, (hit, hit_cumsum) in enumerate(zip(hit_list, hit_list_cumsum))])/len(item_id_idx)\n",
        "\n",
        "    metrics_df['ndcg'] = metrics_df.apply(lambda x : get_dcg_idcg(x['item_id_idx'], x['hit_list']), axis = 1)\n",
        "    metrics_df['hit_list_cumsum'] = metrics_df.apply(lambda x : get_cumsum(x['hit_list']), axis = 1)\n",
        "\n",
        "    metrics_df['map'] = metrics_df.apply(lambda x : get_map(x['item_id_idx'], x['hit_list'], x['hit_list_cumsum']), axis = 1)\n",
        "\n",
        "    return metrics_df['recall'].mean(), metrics_df['precision'].mean(), metrics_df['ndcg'].mean(), metrics_df['map'].mean() "
      ],
      "metadata": {
        "id": "W-FcN0RPSRVn"
      },
      "execution_count": 17,
      "outputs": []
    },
    {
      "cell_type": "code",
      "source": [
        "class LightGCN(nn.Module):\n",
        "    def __init__(self, data, n_users, n_items, n_layers, latent_dim):\n",
        "        super(LightGCN, self).__init__()\n",
        "        self.data = data\n",
        "        self.n_users = n_users\n",
        "        self.n_items = n_items\n",
        "        self.n_layers = n_layers\n",
        "        self.latent_dim = latent_dim\n",
        "        self.init_embedding()\n",
        "        self.norm_adj_mat_sparse_tensor = self.get_A_tilda()\n",
        "\n",
        "    def init_embedding(self):\n",
        "        self.E0 = nn.Embedding(self.n_users + self.n_items, self.latent_dim)\n",
        "        nn.init.xavier_uniform_(self.E0.weight)\n",
        "        self.E0.weight = nn.Parameter(self.E0.weight)\n",
        "\n",
        "    def get_A_tilda(self):\n",
        "        R = sp.dok_matrix((self.n_users, self.n_items), dtype = np.float32)\n",
        "        R[self.data['user_id_idx'], self.data['item_id_idx']] = 1.0\n",
        "\n",
        "        adj_mat = sp.dok_matrix(\n",
        "                (self.n_users + self.n_items, self.n_users + self.n_items), dtype=np.float32\n",
        "            )\n",
        "        adj_mat = adj_mat.tolil()\n",
        "        R = R.tolil()\n",
        "\n",
        "        adj_mat[: n_users, n_users :] = R\n",
        "        adj_mat[n_users :, : n_users] = R.T\n",
        "        adj_mat = adj_mat.todok()\n",
        "\n",
        "        rowsum = np.array(adj_mat.sum(1))\n",
        "        d_inv = np.power(rowsum + 1e-9, -0.5).flatten()\n",
        "        d_inv[np.isinf(d_inv)] = 0.0\n",
        "        d_mat_inv = sp.diags(d_inv)\n",
        "        norm_adj_mat = d_mat_inv.dot(adj_mat)\n",
        "        norm_adj_mat = norm_adj_mat.dot(d_mat_inv)\n",
        "        \n",
        "        # Below Code is toconvert the dok_matrix to sparse tensor.\n",
        "        \n",
        "        norm_adj_mat_coo = norm_adj_mat.tocoo().astype(np.float32)\n",
        "        values = norm_adj_mat_coo.data\n",
        "        indices = np.vstack((norm_adj_mat_coo.row, norm_adj_mat_coo.col))\n",
        "\n",
        "        i = torch.LongTensor(indices)\n",
        "        v = torch.FloatTensor(values)\n",
        "        shape = norm_adj_mat_coo.shape\n",
        "\n",
        "        norm_adj_mat_sparse_tensor = torch.sparse.FloatTensor(i, v, torch.Size(shape))\n",
        "\n",
        "        return norm_adj_mat_sparse_tensor\n",
        "    \n",
        "    def propagate_through_layers(self):\n",
        "        all_layer_embedding = [self.E0.weight]\n",
        "        E_lyr = self.E0.weight\n",
        "\n",
        "        for layer in range(self.n_layers):\n",
        "            E_lyr = torch.sparse.mm(self.norm_adj_mat_sparse_tensor, E_lyr)\n",
        "            all_layer_embedding.append(E_lyr)\n",
        "\n",
        "        all_layer_embedding = torch.stack(all_layer_embedding)\n",
        "        mean_layer_embedding = torch.mean(all_layer_embedding, axis = 0)\n",
        "\n",
        "        final_user_Embed, final_item_Embed = torch.split(mean_layer_embedding, [n_users, n_items])\n",
        "        initial_user_Embed, initial_item_Embed = torch.split(self.E0.weight, [n_users, n_items])\n",
        "\n",
        "        return final_user_Embed, final_item_Embed, initial_user_Embed, initial_item_Embed\n",
        "\n",
        "    def forward(self, users, pos_items, neg_items):\n",
        "        final_user_Embed, final_item_Embed, initial_user_Embed, initial_item_Embed = self.propagate_through_layers()\n",
        "\n",
        "        users_emb, pos_emb, neg_emb = final_user_Embed[users], final_item_Embed[pos_items], final_item_Embed[neg_items]\n",
        "        userEmb0,  posEmb0, negEmb0 = initial_user_Embed[users], initial_item_Embed[pos_items], initial_item_Embed[neg_items]\n",
        "\n",
        "        return users_emb, pos_emb, neg_emb, userEmb0,  posEmb0, negEmb0"
      ],
      "metadata": {
        "id": "ODMyaX40Q8u9"
      },
      "execution_count": 18,
      "outputs": []
    },
    {
      "cell_type": "code",
      "source": [
        "lightGCN = LightGCN(train, n_users, n_items, n_layers, latent_dim)"
      ],
      "metadata": {
        "id": "u2I3tavURCZY"
      },
      "execution_count": 82,
      "outputs": []
    },
    {
      "cell_type": "code",
      "source": [
        "print(\"Size of Learnable Embedding : \", list(lightGCN.parameters())[0].size())"
      ],
      "metadata": {
        "colab": {
          "base_uri": "https://localhost:8080/"
        },
        "id": "63SIZKS-RFnj",
        "outputId": "943b22e4-59b4-4d5c-a09d-9296479ac727"
      },
      "execution_count": 83,
      "outputs": [
        {
          "output_type": "stream",
          "name": "stdout",
          "text": [
            "Size of Learnable Embedding :  torch.Size([72363, 64])\n"
          ]
        }
      ]
    },
    {
      "cell_type": "code",
      "source": [
        "def bpr_loss(users, users_emb, pos_emb, neg_emb, userEmb0,  posEmb0, negEmb0):\n",
        "  \n",
        "    reg_loss = (1/2)*(userEmb0.norm().pow(2) + \n",
        "                    posEmb0.norm().pow(2)  +\n",
        "                    negEmb0.norm().pow(2))/float(len(users))\n",
        "    pos_scores = torch.mul(users_emb, pos_emb)\n",
        "    pos_scores = torch.sum(pos_scores, dim=1)\n",
        "    neg_scores = torch.mul(users_emb, neg_emb)\n",
        "    neg_scores = torch.sum(neg_scores, dim=1)\n",
        "        \n",
        "    loss = torch.mean(torch.nn.functional.softplus(neg_scores - pos_scores))\n",
        "        \n",
        "    return loss, reg_loss"
      ],
      "metadata": {
        "id": "hIf1_3eBRsBK"
      },
      "execution_count": 21,
      "outputs": []
    },
    {
      "cell_type": "code",
      "source": [
        "def data_loader(data, batch_size, n_usr, n_itm):\n",
        "  \n",
        "    interected_items_df = data.groupby('user_id_idx')['item_id_idx'].apply(list).reset_index()\n",
        "  \n",
        "    def sample_neg(x):\n",
        "        while True:\n",
        "            neg_id = random.randint(0, n_itm - 1)\n",
        "            if neg_id not in x:\n",
        "                return neg_id\n",
        "  \n",
        "    indices = [x for x in range(n_usr)]\n",
        "    \n",
        "    if n_usr < batch_size:\n",
        "        users = [random.choice(indices) for _ in range(batch_size)]\n",
        "    else:\n",
        "        users = random.sample(indices, batch_size)\n",
        "\n",
        "    users.sort()\n",
        "  \n",
        "    users_df = pd.DataFrame(users,columns = ['users'])\n",
        "\n",
        "    interected_items_df = pd.merge(interected_items_df, users_df, how = 'right', left_on = 'user_id_idx', right_on = 'users')\n",
        "  \n",
        "    pos_items = interected_items_df['item_id_idx'].apply(lambda x : random.choice(x)).values\n",
        "\n",
        "    neg_items = interected_items_df['item_id_idx'].apply(lambda x: sample_neg(x)).values\n",
        "\n",
        "    return list(users), list(pos_items), list(neg_items)"
      ],
      "metadata": {
        "id": "Y4k_eNa3RsfC"
      },
      "execution_count": 22,
      "outputs": []
    },
    {
      "cell_type": "code",
      "source": [
        "optimizer = torch.optim.Adam(lightGCN.parameters(), lr = 0.005)"
      ],
      "metadata": {
        "id": "MZklScGMRyOu"
      },
      "execution_count": 84,
      "outputs": []
    },
    {
      "cell_type": "markdown",
      "source": [],
      "metadata": {
        "id": "N5Sq7wdwpQna"
      }
    },
    {
      "cell_type": "code",
      "source": [
        "EPOCHS = 30\n",
        "BATCH_SIZE = 1024 \n",
        "DECAY = 0.0001\n",
        "K = 10"
      ],
      "metadata": {
        "id": "_T2QbIl5R1ou"
      },
      "execution_count": 85,
      "outputs": []
    },
    {
      "cell_type": "code",
      "source": [
        "loss_list_epoch = []\n",
        "MF_loss_list_epoch = []\n",
        "reg_loss_list_epoch = []\n",
        "\n",
        "recall_list = []\n",
        "precision_list = []\n",
        "ndcg_list = []\n",
        "map_list = []\n",
        "\n",
        "train_time_list = []\n",
        "eval_time_list = [] \n",
        "\n",
        "for epoch in tqdm(range(EPOCHS)):\n",
        "    n_batch = int(len(train)/BATCH_SIZE)\n",
        "  \n",
        "    final_loss_list = []\n",
        "    MF_loss_list = []\n",
        "    reg_loss_list = []\n",
        "  \n",
        "    best_ndcg = -1\n",
        "  \n",
        "    train_start_time = time.time()\n",
        "    lightGCN.train()\n",
        "    for batch_idx in range(n_batch):\n",
        "\n",
        "        optimizer.zero_grad()\n",
        "\n",
        "        users, pos_items, neg_items = data_loader(train, BATCH_SIZE, n_users, n_items)\n",
        "\n",
        "        users_emb, pos_emb, neg_emb, userEmb0,  posEmb0, negEmb0 = lightGCN.forward(users, pos_items, neg_items)\n",
        "\n",
        "        mf_loss, reg_loss = bpr_loss(users, users_emb, pos_emb, neg_emb, userEmb0,  posEmb0, negEmb0)\n",
        "        reg_loss = DECAY * reg_loss\n",
        "        final_loss = mf_loss + reg_loss\n",
        "\n",
        "        final_loss.backward()\n",
        "        optimizer.step()\n",
        "\n",
        "        final_loss_list.append(final_loss.item())\n",
        "        MF_loss_list.append(mf_loss.item())\n",
        "        reg_loss_list.append(reg_loss.item())\n",
        "\n",
        "\n",
        "    train_end_time = time.time()\n",
        "    train_time = train_end_time - train_start_time\n",
        "\n",
        "    lightGCN.eval()\n",
        "    with torch.no_grad():\n",
        "    \n",
        "        final_user_Embed, final_item_Embed, initial_user_Embed,initial_item_Embed = lightGCN.propagate_through_layers()\n",
        "        test_topK_recall,  test_topK_precision, test_topK_ndcg, test_topK_map  = get_metrics(final_user_Embed, final_item_Embed, n_users, n_items, train, test, K)\n",
        "\n",
        "\n",
        "    if test_topK_ndcg > best_ndcg:\n",
        "        best_ndcg = test_topK_ndcg\n",
        "      \n",
        "        torch.save(final_user_Embed, 'final_user_Embed.pt')\n",
        "        torch.save(final_item_Embed, 'final_item_Embed.pt')\n",
        "        torch.save(initial_user_Embed, 'initial_user_Embed.pt')\n",
        "        torch.save(initial_item_Embed, 'initial_item_Embed.pt')\n",
        "     \n",
        "\n",
        "    eval_time = time.time() - train_end_time\n",
        "\n",
        "    loss_list_epoch.append(round(np.mean(final_loss_list),4))\n",
        "    MF_loss_list_epoch.append(round(np.mean(MF_loss_list),4))\n",
        "    reg_loss_list_epoch.append(round(np.mean(reg_loss_list),4))\n",
        "\n",
        "    recall_list.append(round(test_topK_recall,4))\n",
        "    precision_list.append(round(test_topK_precision,4))\n",
        "    ndcg_list.append(round(test_topK_ndcg,4))\n",
        "    map_list.append(round(test_topK_map,4))\n",
        "\n",
        "    train_time_list.append(train_time)\n",
        "    eval_time_list.append(eval_time)  "
      ],
      "metadata": {
        "colab": {
          "base_uri": "https://localhost:8080/",
          "height": 49,
          "referenced_widgets": [
            "878c423f961c404f9ed93c3cf27fe195",
            "308f92a2a47a46b987b00b4b21253a44",
            "cf692f4077c9489ea51eac75319d33bd",
            "dd699e8818a844aeb1d9c596a65283a7",
            "a40242e73c114cbb8e1cb39d2d0d029a",
            "f9a78dae74674884995924bf1cd8dbb2",
            "0ccd025a445d4d20ac364c479ce49cb0",
            "53fdf758a13f4c2c94ac86f0fbc4e75f",
            "95c7cee5d19a461187aa053dc9c4c72f",
            "81fdba645dc4405eac4da1a496601231",
            "7a5e75465d06417fb656ade437ce83ae"
          ]
        },
        "id": "wnVwHa73R3nj",
        "outputId": "4d86cdf6-378b-4dee-c25c-fa115b3e70a0"
      },
      "execution_count": null,
      "outputs": [
        {
          "output_type": "display_data",
          "data": {
            "text/plain": [
              "  0%|          | 0/30 [00:00<?, ?it/s]"
            ],
            "application/vnd.jupyter.widget-view+json": {
              "version_major": 2,
              "version_minor": 0,
              "model_id": "878c423f961c404f9ed93c3cf27fe195"
            }
          },
          "metadata": {}
        }
      ]
    },
    {
      "cell_type": "code",
      "source": [
        "epoch_list = [(i+1) for i in range(EPOCHS)]"
      ],
      "metadata": {
        "id": "_-zWMRW1m6v4"
      },
      "execution_count": 70,
      "outputs": []
    },
    {
      "cell_type": "code",
      "source": [
        "plt.plot(epoch_list, recall_list, label='Recall')\n",
        "plt.plot(epoch_list, precision_list, label='Precision')\n",
        "plt.plot(epoch_list, ndcg_list, label='NDCG')\n",
        "plt.plot(epoch_list, map_list, label='MAP')\n",
        "plt.xlabel('Epoch')\n",
        "plt.ylabel('Metrics')\n",
        "plt.legend()"
      ],
      "metadata": {
        "colab": {
          "base_uri": "https://localhost:8080/",
          "height": 466
        },
        "id": "4gH6lShB3o5G",
        "outputId": "20b6a843-4c39-4601-d8a0-db56e01de994"
      },
      "execution_count": 71,
      "outputs": [
        {
          "output_type": "execute_result",
          "data": {
            "text/plain": [
              "<matplotlib.legend.Legend at 0x7f7b8602a770>"
            ]
          },
          "metadata": {},
          "execution_count": 71
        },
        {
          "output_type": "display_data",
          "data": {
            "text/plain": [
              "<Figure size 640x480 with 1 Axes>"
            ],
            "image/png": "[encoded data removed]"
          },
          "metadata": {}
        }
      ]
    },
    {
      "cell_type": "code",
      "source": [
        "plt.plot(epoch_list, loss_list_epoch, label='Total Training Loss')\n",
        "plt.plot(epoch_list, MF_loss_list_epoch, label='MF Training Loss')\n",
        "plt.plot(epoch_list, reg_loss_list_epoch, label='Reg Training Loss')\n",
        "\n",
        "plt.xlabel('Epoch')\n",
        "plt.ylabel('Loss')\n",
        "plt.legend()"
      ],
      "metadata": {
        "colab": {
          "base_uri": "https://localhost:8080/",
          "height": 466
        },
        "id": "SndvfrnN2RO0",
        "outputId": "9dcaf2cf-b215-4bb8-f12d-c9d07f286238"
      },
      "execution_count": 28,
      "outputs": [
        {
          "output_type": "execute_result",
          "data": {
            "text/plain": [
              "<matplotlib.legend.Legend at 0x7f7c644532b0>"
            ]
          },
          "metadata": {},
          "execution_count": 28
        },
        {
          "output_type": "display_data",
          "data": {
            "text/plain": [
              "<Figure size 640x480 with 1 Axes>"
            ],
            "image/png": "[encoded data removed]"
          },
          "metadata": {}
        }
      ]
    },
    {
      "cell_type": "code",
      "source": [
        "print(\"Averge time taken to train an epoch -> \", round(np.mean(train_time_list),2), \" seconds\")\n",
        "print(\"Averge time taken to eval an epoch -> \", round(np.mean(eval_time_list),2), \" seconds\")"
      ],
      "metadata": {
        "colab": {
          "base_uri": "https://localhost:8080/"
        },
        "id": "_KcVFk0Y3paS",
        "outputId": "73493cf8-8bb3-4c08-83c8-7b104cbd9954"
      },
      "execution_count": 49,
      "outputs": [
        {
          "output_type": "stream",
          "name": "stdout",
          "text": [
            "Averge time taken to train an epoch ->  0.05  seconds\n",
            "Averge time taken to eval an epoch ->  0.06  seconds\n"
          ]
        }
      ]
    },
    {
      "cell_type": "code",
      "source": [
        "print(\"Last Epoch's Test Data Recall -> \", recall_list[-1])\n",
        "print(\"Last Epoch's Test Data Precision -> \", precision_list[-1])\n",
        "print(\"Last Epoch's Test Data NDCG -> \", ndcg_list[-1])\n",
        "print(\"Last Epoch's Test Data MAP -> \", map_list[-1])\n",
        "\n",
        "print(\"Last Epoch's Train Data Loss -> \", loss_list_epoch[-1])"
      ],
      "metadata": {
        "colab": {
          "base_uri": "https://localhost:8080/"
        },
        "id": "ZDT7LRAT5qNo",
        "outputId": "dd4eeee0-98fb-4198-dd60-140c3926a853"
      },
      "execution_count": 50,
      "outputs": [
        {
          "output_type": "stream",
          "name": "stdout",
          "text": [
            "Last Epoch's Test Data Recall ->  0.0\n",
            "Last Epoch's Test Data Precision ->  0.0\n",
            "Last Epoch's Test Data NDCG ->  0.0\n",
            "Last Epoch's Test Data MAP ->  0.0\n",
            "Last Epoch's Train Data Loss ->  0.0318\n"
          ]
        }
      ]
    },
    {
      "cell_type": "code",
      "source": [
        "# Check data types of each column\n",
        "print(test.dtypes)\n",
        "\n",
        "# Check unique values in 'stars' column\n",
        "print(test['stars'].unique())\n",
        "\n",
        "# Check unique values in 'user_id' column\n",
        "print(test['user_id'].unique())\n",
        "\n",
        "# Check unique values in 'business_id' column\n",
        "print(test['business_id'].unique())\n",
        "\n",
        "# Check unique values in 'funny' column\n",
        "print(test['funny'].unique())\n"
      ],
      "metadata": {
        "colab": {
          "base_uri": "https://localhost:8080/"
        },
        "id": "EeuOoBGLlob6",
        "outputId": "d63fe171-7726-423d-fe05-97755657df35"
      },
      "execution_count": null,
      "outputs": [
        {
          "output_type": "stream",
          "name": "stdout",
          "text": [
            "stars          float64\n",
            "user_id         object\n",
            "business_id     object\n",
            "funny            int64\n",
            "user_id_idx      int64\n",
            "item_id_idx      int64\n",
            "dtype: object\n",
            "[]\n",
            "[]\n",
            "[]\n",
            "[]\n"
          ]
        }
      ]
    },
    {
      "cell_type": "code",
      "source": [
        "# Call the get_metrics function\n",
        "test_topK_recall, test_topK_precision, test_topK_ndcg, test_topK_map = get_metrics(final_user_Embed, final_item_Embed, n_users, n_items, train, test, K)\n"
      ],
      "metadata": {
        "id": "FYRMF7Laj1D-"
      },
      "execution_count": null,
      "outputs": []
    },
    {
      "cell_type": "code",
      "source": [
        "lightGCN.propagate_through_layers()\n",
        "     # Call the get_metrics function"
      ],
      "metadata": {
        "colab": {
          "base_uri": "https://localhost:8080/"
        },
        "id": "uV5QywFkko1J",
        "outputId": "e245b969-8b13-4b0d-ae96-3aa984e46a20"
      },
      "execution_count": null,
      "outputs": [
        {
          "output_type": "execute_result",
          "data": {
            "text/plain": [
              "(tensor([[-0.0164,  0.0440,  0.0294,  ...,  0.0870,  0.0040,  0.0242],\n",
              "         [-0.0222,  0.0027, -0.1253,  ...,  0.0427,  0.0102, -0.0082],\n",
              "         [ 0.0548,  0.0811,  0.0103,  ...,  0.0653, -0.0052, -0.1405],\n",
              "         ...,\n",
              "         [ 0.0236, -0.0439,  0.0325,  ...,  0.0139, -0.0566,  0.0148],\n",
              "         [ 0.1326,  0.0780, -0.0874,  ...,  0.0925, -0.0040,  0.0005],\n",
              "         [ 0.0306,  0.0228,  0.1544,  ...,  0.1409,  0.1179,  0.1522]],\n",
              "        grad_fn=<SplitWithSizesBackward0>),\n",
              " tensor([[ 0.1335,  0.1377, -0.0304,  ...,  0.1175,  0.0666, -0.1231],\n",
              "         [ 0.1650, -0.0574, -0.0071,  ..., -0.0065,  0.0322, -0.0572],\n",
              "         [-0.0841, -0.1589,  0.0356,  ...,  0.0414, -0.0707, -0.0545],\n",
              "         ...,\n",
              "         [ 0.0548,  0.0811,  0.0103,  ...,  0.0653, -0.0052, -0.1405],\n",
              "         [-0.0824,  0.1101,  0.0204,  ..., -0.0660, -0.0217, -0.0417],\n",
              "         [ 0.0328, -0.1782,  0.1329,  ...,  0.1534,  0.0958,  0.0168]],\n",
              "        grad_fn=<SplitWithSizesBackward0>),\n",
              " tensor([[ 0.1377,  0.1424,  0.1271,  ...,  0.0296, -0.0114, -0.0345],\n",
              "         [-0.1352,  0.1329, -0.0736,  ..., -0.0657, -0.1554, -0.1687],\n",
              "         [ 0.1834,  0.1065, -0.0979,  ...,  0.1313,  0.1403, -0.1088],\n",
              "         ...,\n",
              "         [-0.0104, -0.0324,  0.0321,  ..., -0.0875, -0.1803, -0.1129],\n",
              "         [ 0.0946,  0.0264, -0.0525,  ...,  0.0304,  0.1711, -0.1819],\n",
              "         [-0.0596,  0.1097,  0.1498,  ...,  0.1106,  0.0997,  0.1252]],\n",
              "        grad_fn=<SplitWithSizesBackward0>),\n",
              " tensor([[ 0.1195,  0.1505,  0.1011,  ...,  0.0527, -0.0033, -0.1593],\n",
              "         [ 0.1797,  0.0144, -0.1069,  ..., -0.1607,  0.0698, -0.1001],\n",
              "         [-0.1614, -0.1673,  0.1623,  ...,  0.0571, -0.1238, -0.0075],\n",
              "         ...,\n",
              "         [-0.0737,  0.0557,  0.1184,  ..., -0.0007, -0.1507, -0.1721],\n",
              "         [-0.1628,  0.0621, -0.0429,  ..., -0.0670, -0.0591, -0.1325],\n",
              "         [ 0.0356, -0.1726,  0.0818,  ...,  0.1642,  0.0797,  0.0693]],\n",
              "        grad_fn=<SplitWithSizesBackward0>))"
            ]
          },
          "metadata": {},
          "execution_count": 86
        }
      ]
    },
    {
      "cell_type": "code",
      "source": [
        "recall_list.append(round(test_topK_recall, 4))\n"
      ],
      "metadata": {
        "colab": {
          "base_uri": "https://localhost:8080/",
          "height": 166
        },
        "id": "HKlstSdI3MYk",
        "outputId": "42af2eae-d4a0-4086-c230-fb8c5246bf94"
      },
      "execution_count": null,
      "outputs": [
        {
          "output_type": "error",
          "ename": "NameError",
          "evalue": "ignored",
          "traceback": [
            "\u001b[0;31m---------------------------------------------------------------------------\u001b[0m",
            "\u001b[0;31mNameError\u001b[0m                                 Traceback (most recent call last)",
            "\u001b[0;32m<ipython-input-32-6ca179272722>\u001b[0m in \u001b[0;36m<cell line: 1>\u001b[0;34m()\u001b[0m\n\u001b[0;32m----> 1\u001b[0;31m \u001b[0mrecall_list\u001b[0m\u001b[0;34m.\u001b[0m\u001b[0mappend\u001b[0m\u001b[0;34m(\u001b[0m\u001b[0mround\u001b[0m\u001b[0;34m(\u001b[0m\u001b[0mtest_topK_recall\u001b[0m\u001b[0;34m,\u001b[0m \u001b[0;36m4\u001b[0m\u001b[0;34m)\u001b[0m\u001b[0;34m)\u001b[0m\u001b[0;34m\u001b[0m\u001b[0;34m\u001b[0m\u001b[0m\n\u001b[0m",
            "\u001b[0;31mNameError\u001b[0m: name 'test_topK_recall' is not defined"
          ]
        }
      ]
    },
    {
      "cell_type": "code",
      "source": [
        "epoch_list = [(i+1) for i in range(EPOCHS)]"
      ],
      "metadata": {
        "id": "e0NLEEdfimKW"
      },
      "execution_count": null,
      "outputs": []
    },
    {
      "cell_type": "code",
      "source": [
        "plt.plot(epoch_list, recall_list, label='Recall')\n",
        "plt.plot(epoch_list, precision_list, label='Precision')\n",
        "plt.plot(epoch_list, ndcg_list, label='NDCG')\n",
        "plt.plot(epoch_list, map_list, label='MAP')\n",
        "plt.xlabel('Epoch')\n",
        "plt.ylabel('Metrics')\n",
        "plt.legend()bv"
      ],
      "metadata": {
        "colab": {
          "base_uri": "https://localhost:8080/",
          "height": 466
        },
        "id": "LU-N2nrVinQf",
        "outputId": "c6738aab-9e39-4b04-e37e-0bd73567cc1c"
      },
      "execution_count": null,
      "outputs": [
        {
          "output_type": "execute_result",
          "data": {
            "text/plain": [
              "<matplotlib.legend.Legend at 0x7f5c805e1d80>"
            ]
          },
          "metadata": {},
          "execution_count": 58
        },
        {
          "output_type": "display_data",
          "data": {
            "text/plain": [
              "<Figure size 640x480 with 1 Axes>"
            ],
            "image/png": "[encoded data removed]"
          },
          "metadata": {}
        }
      ]
    },
    {
      "cell_type": "code",
      "source": [
        "plt.plot(epoch_list, loss_list_epoch, label='Total Training Loss')\n",
        "plt.plot(epoch_list, MF_loss_list_epoch, label='MF Training Loss')\n",
        "plt.plot(epoch_list, reg_loss_list_epoch, label='Reg Training Loss')\n",
        "\n",
        "plt.xlabel('Epoch')\n",
        "plt.ylabel('Loss')\n",
        "plt.legend()"
      ],
      "metadata": {
        "colab": {
          "base_uri": "https://localhost:8080/",
          "height": 466
        },
        "id": "hSFOX6d6iqM7",
        "outputId": "62a61502-dceb-42b1-cefb-24762aa4385a"
      },
      "execution_count": null,
      "outputs": [
        {
          "output_type": "execute_result",
          "data": {
            "text/plain": [
              "<matplotlib.legend.Legend at 0x7f5c7cd71600>"
            ]
          },
          "metadata": {},
          "execution_count": 59
        },
        {
          "output_type": "display_data",
          "data": {
            "text/plain": [
              "<Figure size 640x480 with 1 Axes>"
            ],
            "image/png": "[encoded data removed]"
          },
          "metadata": {}
        }
      ]
    },
    {
      "cell_type": "code",
      "source": [
        "print(\"Averge time taken to train an epoch -> \", round(np.mean(train_time_list),2), \" seconds\")\n",
        "print(\"Averge time taken to eval an epoch -> \", round(np.mean(eval_time_list),2), \" seconds\")"
      ],
      "metadata": {
        "colab": {
          "base_uri": "https://localhost:8080/"
        },
        "id": "M6sU2SnBitE6",
        "outputId": "b054cef2-26ff-4f58-a25c-8eb51b8c29f4"
      },
      "execution_count": null,
      "outputs": [
        {
          "output_type": "stream",
          "name": "stdout",
          "text": [
            "Averge time taken to train an epoch ->  45.16  seconds\n",
            "Averge time taken to eval an epoch ->  1.05  seconds\n"
          ]
        }
      ]
    },
    {
      "cell_type": "code",
      "source": [
        "print(\"Last Epoch's Test Data Recall -> \", recall_list[-1])\n",
        "print(\"Last Epoch's Test Data Precision -> \", precision_list[-1])\n",
        "print(\"Last Epoch's Test Data NDCG -> \", ndcg_list[-1])\n",
        "print(\"Last Epoch's Test Data MAP -> \", map_list[-1])\n",
        "\n",
        "print(\"Last Epoch's Train Data Loss -> \", loss_list_epoch[-1])"
      ],
      "metadata": {
        "colab": {
          "base_uri": "https://localhost:8080/"
        },
        "id": "9iRVF6W5iu10",
        "outputId": "349f2c3a-8bad-4619-dee3-c20b09454181"
      },
      "execution_count": null,
      "outputs": [
        {
          "output_type": "stream",
          "name": "stdout",
          "text": [
            "Last Epoch's Test Data Recall ->  0.1659\n",
            "Last Epoch's Test Data Precision ->  0.2388\n",
            "Last Epoch's Test Data NDCG ->  0.2825\n",
            "Last Epoch's Test Data MAP ->  0.0898\n",
            "Last Epoch's Train Data Loss ->  0.0452\n"
          ]
        }
      ]
    }
  ]
}