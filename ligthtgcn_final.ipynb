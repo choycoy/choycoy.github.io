{
  "cells": [
    {
      "cell_type": "markdown",
      "metadata": {
        "id": "view-in-github",
        "colab_type": "text"
      },
      "source": [
        "<a href=\"https://colab.research.google.com/github/choycoy/choycoy.github.io/blob/main/ligthtgcn_final.ipynb\" target=\"_parent\"><img src=\"https://colab.research.google.com/assets/colab-badge.svg\" alt=\"Open In Colab\"/></a>"
      ]
    },
    {
      "cell_type": "code",
      "execution_count": null,
      "metadata": {
        "colab": {
          "base_uri": "https://localhost:8080/"
        },
        "id": "wuhpQlkWIrLj",
        "outputId": "15fa0b06-e750-4db7-9f10-8d9fd019a55a"
      },
      "outputs": [
        {
          "output_type": "stream",
          "name": "stdout",
          "text": [
            "\u001b[2K     \u001b[90m━━━━━━━━━━━━━━━━━━━━━━━━━━━━━━━━━━━━━━━\u001b[0m \u001b[32m588.3/588.3 MB\u001b[0m \u001b[31m2.2 MB/s\u001b[0m eta \u001b[36m0:00:00\u001b[0m\n",
            "\u001b[2K     \u001b[90m━━━━━━━━━━━━━━━━━━━━━━━━━━━━━━━━━━━━━━━━\u001b[0m \u001b[32m1.7/1.7 MB\u001b[0m \u001b[31m83.9 MB/s\u001b[0m eta \u001b[36m0:00:00\u001b[0m\n",
            "\u001b[2K     \u001b[90m━━━━━━━━━━━━━━━━━━━━━━━━━━━━━━━━━━━━━━━━\u001b[0m \u001b[32m1.1/1.1 MB\u001b[0m \u001b[31m73.5 MB/s\u001b[0m eta \u001b[36m0:00:00\u001b[0m\n",
            "\u001b[2K     \u001b[90m━━━━━━━━━━━━━━━━━━━━━━━━━━━━━━━━━━━━━━━━\u001b[0m \u001b[32m6.0/6.0 MB\u001b[0m \u001b[31m104.0 MB/s\u001b[0m eta \u001b[36m0:00:00\u001b[0m\n",
            "\u001b[2K     \u001b[90m━━━━━━━━━━━━━━━━━━━━━━━━━━━━━━━━━━━━━━\u001b[0m \u001b[32m439.2/439.2 kB\u001b[0m \u001b[31m43.1 MB/s\u001b[0m eta \u001b[36m0:00:00\u001b[0m\n",
            "\u001b[2K     \u001b[90m━━━━━━━━━━━━━━━━━━━━━━━━━━━━━━━━━━━━━━━━\u001b[0m \u001b[32m4.9/4.9 MB\u001b[0m \u001b[31m93.3 MB/s\u001b[0m eta \u001b[36m0:00:00\u001b[0m\n",
            "\u001b[2K     \u001b[90m━━━━━━━━━━━━━━━━━━━━━━━━━━━━━━━━━━━━━━\u001b[0m \u001b[32m781.3/781.3 kB\u001b[0m \u001b[31m62.2 MB/s\u001b[0m eta \u001b[36m0:00:00\u001b[0m\n",
            "\u001b[?25h\u001b[31mERROR: pip's dependency resolver does not currently take into account all the packages that are installed. This behaviour is the source of the following dependency conflicts.\n",
            "tensorflow-datasets 4.9.2 requires protobuf>=3.20, but you have protobuf 3.19.6 which is incompatible.\n",
            "tensorflow-metadata 1.13.1 requires protobuf<5,>=3.20.3, but you have protobuf 3.19.6 which is incompatible.\u001b[0m\u001b[31m\n",
            "\u001b[0m"
          ]
        }
      ],
      "source": [
        "!pip install -q tensorflow==2.11.0"
      ]
    },
    {
      "cell_type": "code",
      "execution_count": null,
      "metadata": {
        "colab": {
          "base_uri": "https://localhost:8080/"
        },
        "id": "PL0t2FTXI0vI",
        "outputId": "29e009a4-f292-441e-efb1-f0a093cc1534"
      },
      "outputs": [
        {
          "output_type": "stream",
          "name": "stdout",
          "text": [
            "Cloning into './recommenders_microsoft'...\n",
            "remote: Enumerating objects: 37376, done.\u001b[K\n",
            "remote: Counting objects: 100% (908/908), done.\u001b[K\n",
            "remote: Compressing objects: 100% (312/312), done.\u001b[K\n",
            "remote: Total 37376 (delta 621), reused 759 (delta 580), pack-reused 36468\u001b[K\n",
            "Receiving objects: 100% (37376/37376), 205.39 MiB | 29.10 MiB/s, done.\n",
            "Resolving deltas: 100% (25279/25279), done.\n"
          ]
        }
      ],
      "source": [
        "!git clone https://github.com/microsoft/recommenders.git ./recommenders_microsoft"
      ]
    },
    {
      "cell_type": "code",
      "execution_count": null,
      "metadata": {
        "id": "nopdUJ75KhRU"
      },
      "outputs": [],
      "source": [
        "import sys\n",
        "sys.path.append('/content/recommenders_microsoft')"
      ]
    },
    {
      "cell_type": "code",
      "execution_count": null,
      "metadata": {
        "id": "JeDSuiqdK4KU"
      },
      "outputs": [],
      "source": [
        "sys.path.append('/content/recommenders_microsoft/recommenders')"
      ]
    },
    {
      "cell_type": "code",
      "execution_count": null,
      "metadata": {
        "colab": {
          "base_uri": "https://localhost:8080/"
        },
        "id": "8q14F2LQJHGO",
        "outputId": "b864f338-8f96-4157-992e-5764a134e2a8"
      },
      "outputs": [
        {
          "output_type": "stream",
          "name": "stdout",
          "text": [
            "System version: 3.10.12 (main, Jun  7 2023, 12:45:35) [GCC 9.4.0]\n",
            "Pandas version: 1.5.3\n",
            "Tensorflow version: 2.11.0\n"
          ]
        }
      ],
      "source": [
        "import sys\n",
        "import os\n",
        "import scrapbook as sb\n",
        "import pandas as pd\n",
        "import numpy as np\n",
        "import tensorflow as tf\n",
        "tf.get_logger().setLevel('ERROR') # only show error messages\n",
        "\n",
        "from recommenders.utils.timer import Timer\n",
        "from recommenders.models.deeprec.models.graphrec.lightgcn import LightGCN\n",
        "from recommenders.models.deeprec.DataModel.ImplicitCF import ImplicitCF\n",
        "from recommenders.datasets.python_splitters import python_stratified_split\n",
        "from recommenders.evaluation.python_evaluation import map_at_k, ndcg_at_k, precision_at_k, recall_at_k\n",
        "from recommenders.utils.constants import SEED as DEFAULT_SEED\n",
        "from recommenders.models.deeprec.deeprec_utils import prepare_hparams\n",
        "\n",
        "print(\"System version: {}\".format(sys.version))\n",
        "print(\"Pandas version: {}\".format(pd.__version__))\n",
        "print(\"Tensorflow version: {}\".format(tf.__version__))"
      ]
    },
    {
      "cell_type": "code",
      "execution_count": null,
      "metadata": {
        "colab": {
          "base_uri": "https://localhost:8080/"
        },
        "id": "ErhZYePrJYDA",
        "outputId": "b7a7db4a-35a9-4e70-9f72-89b420ae0db2"
      },
      "outputs": [
        {
          "output_type": "stream",
          "name": "stdout",
          "text": [
            "Collecting retrying\n",
            "  Downloading retrying-1.3.4-py3-none-any.whl (11 kB)\n",
            "Requirement already satisfied: six>=1.7.0 in /usr/local/lib/python3.10/dist-packages (from retrying) (1.16.0)\n",
            "Installing collected packages: retrying\n",
            "Successfully installed retrying-1.3.4\n"
          ]
        }
      ],
      "source": [
        "pip install retrying"
      ]
    },
    {
      "cell_type": "code",
      "execution_count": null,
      "metadata": {
        "id": "l9K8A1VgKFDj"
      },
      "outputs": [],
      "source": [
        "# top k items to recommend\n",
        "TOP_K = 10\n",
        "\n",
        "# Select MovieLens data size: 100k, 1m, 10m, or 20m\n",
        "\n",
        "\n",
        "# Model parameters\n",
        "\n",
        "\n",
        "SEED = DEFAULT_SEED  # Set None for non-deterministic results\n",
        "\n",
        "yaml_file = \"/content/recommenders_microsoft/recommenders/models/deeprec/config/lightgcn.yaml\"\n",
        "user_file = \"/content/recommenders_microsoft/recommenders/tests/resources/deeprec/lightgcn/user_embeddings.csv\"\n",
        "item_file = \"/content/recommenders_microsoft/recommenders/tests/resources/deeprec/lightgcn/item_embeddings.csv\""
      ]
    },
    {
      "cell_type": "code",
      "source": [],
      "metadata": {
        "id": "fbR3USd70aFs"
      },
      "execution_count": null,
      "outputs": []
    },
    {
      "cell_type": "code",
      "execution_count": null,
      "metadata": {
        "colab": {
          "base_uri": "https://localhost:8080/"
        },
        "id": "tdIhwnP2ZUCs",
        "outputId": "86098845-8b94-41ff-cbe8-2f43c228cb47"
      },
      "outputs": [
        {
          "output_type": "stream",
          "name": "stdout",
          "text": [
            "Mounted at /content/drive\n"
          ]
        }
      ],
      "source": [
        "from google.colab import drive\n",
        "drive.mount('/content/drive')"
      ]
    },
    {
      "cell_type": "code",
      "execution_count": null,
      "metadata": {
        "colab": {
          "base_uri": "https://localhost:8080/"
        },
        "id": "rEkYG64Z_pth",
        "outputId": "79da4e91-3b3f-4146-e398-4f6a1c209ae9"
      },
      "outputs": [
        {
          "output_type": "stream",
          "name": "stdout",
          "text": [
            "User Dataset 1 shape : (100001, 3)\n",
            "         userID rating   itemID\n",
            "0       user_id  stars  item_id\n",
            "1             1      3        1\n",
            "2             2      5        2\n",
            "3             3      3        3\n",
            "4             4      5        4\n",
            "...         ...    ...      ...\n",
            "99996     79343      4     2791\n",
            "99997     79344      1      785\n",
            "99998     79345      4      662\n",
            "99999     34711      2     1230\n",
            "100000      397      5     5488\n",
            "\n",
            "[100001 rows x 3 columns]\n"
          ]
        }
      ],
      "source": [
        "columns_name=['userID','rating', 'itemID']\n",
        "df = pd.read_csv(\"/content/drive/My Drive/final/example_100000.csv\",sep=\",\",names=columns_name)\n",
        "print('User Dataset 1 shape : {}'.format(df.shape))\n",
        "\n",
        "print(df)"
      ]
    },
    {
      "cell_type": "code",
      "execution_count": null,
      "metadata": {
        "id": "vhzQ1Fig_sMs"
      },
      "outputs": [],
      "source": [
        "df = df.drop(df.index[0])\n",
        "# Assuming df is your DataFrame\n",
        "df = df.reset_index(drop=True)"
      ]
    },
    {
      "cell_type": "code",
      "source": [
        "df['rating'] = df['rating'].astype(float)\n"
      ],
      "metadata": {
        "id": "7Dcav4GYCPRO"
      },
      "execution_count": null,
      "outputs": []
    },
    {
      "cell_type": "code",
      "execution_count": null,
      "metadata": {
        "colab": {
          "base_uri": "https://localhost:8080/",
          "height": 424
        },
        "id": "gG--u1-l_wPT",
        "outputId": "b883af21-e28b-4dd4-e652-5fa352325e15"
      },
      "outputs": [
        {
          "output_type": "execute_result",
          "data": {
            "text/plain": [
              "      userID  rating itemID\n",
              "0          1     3.0      1\n",
              "1          2     5.0      2\n",
              "2          3     3.0      3\n",
              "3          4     5.0      4\n",
              "4          5     4.0      5\n",
              "...      ...     ...    ...\n",
              "99995  79343     4.0   2791\n",
              "99996  79344     1.0    785\n",
              "99997  79345     4.0    662\n",
              "99998  34711     2.0   1230\n",
              "99999    397     5.0   5488\n",
              "\n",
              "[100000 rows x 3 columns]"
            ],
            "text/html": [
              "\n",
              "\n",
              "  <div id=\"df-7e139968-7d99-4343-83d7-257c856621ad\">\n",
              "    <div class=\"colab-df-container\">\n",
              "      <div>\n",
              "<style scoped>\n",
              "    .dataframe tbody tr th:only-of-type {\n",
              "        vertical-align: middle;\n",
              "    }\n",
              "\n",
              "    .dataframe tbody tr th {\n",
              "        vertical-align: top;\n",
              "    }\n",
              "\n",
              "    .dataframe thead th {\n",
              "        text-align: right;\n",
              "    }\n",
              "</style>\n",
              "<table border=\"1\" class=\"dataframe\">\n",
              "  <thead>\n",
              "    <tr style=\"text-align: right;\">\n",
              "      <th></th>\n",
              "      <th>userID</th>\n",
              "      <th>rating</th>\n",
              "      <th>itemID</th>\n",
              "    </tr>\n",
              "  </thead>\n",
              "  <tbody>\n",
              "    <tr>\n",
              "      <th>0</th>\n",
              "      <td>1</td>\n",
              "      <td>3.0</td>\n",
              "      <td>1</td>\n",
              "    </tr>\n",
              "    <tr>\n",
              "      <th>1</th>\n",
              "      <td>2</td>\n",
              "      <td>5.0</td>\n",
              "      <td>2</td>\n",
              "    </tr>\n",
              "    <tr>\n",
              "      <th>2</th>\n",
              "      <td>3</td>\n",
              "      <td>3.0</td>\n",
              "      <td>3</td>\n",
              "    </tr>\n",
              "    <tr>\n",
              "      <th>3</th>\n",
              "      <td>4</td>\n",
              "      <td>5.0</td>\n",
              "      <td>4</td>\n",
              "    </tr>\n",
              "    <tr>\n",
              "      <th>4</th>\n",
              "      <td>5</td>\n",
              "      <td>4.0</td>\n",
              "      <td>5</td>\n",
              "    </tr>\n",
              "    <tr>\n",
              "      <th>...</th>\n",
              "      <td>...</td>\n",
              "      <td>...</td>\n",
              "      <td>...</td>\n",
              "    </tr>\n",
              "    <tr>\n",
              "      <th>99995</th>\n",
              "      <td>79343</td>\n",
              "      <td>4.0</td>\n",
              "      <td>2791</td>\n",
              "    </tr>\n",
              "    <tr>\n",
              "      <th>99996</th>\n",
              "      <td>79344</td>\n",
              "      <td>1.0</td>\n",
              "      <td>785</td>\n",
              "    </tr>\n",
              "    <tr>\n",
              "      <th>99997</th>\n",
              "      <td>79345</td>\n",
              "      <td>4.0</td>\n",
              "      <td>662</td>\n",
              "    </tr>\n",
              "    <tr>\n",
              "      <th>99998</th>\n",
              "      <td>34711</td>\n",
              "      <td>2.0</td>\n",
              "      <td>1230</td>\n",
              "    </tr>\n",
              "    <tr>\n",
              "      <th>99999</th>\n",
              "      <td>397</td>\n",
              "      <td>5.0</td>\n",
              "      <td>5488</td>\n",
              "    </tr>\n",
              "  </tbody>\n",
              "</table>\n",
              "<p>100000 rows × 3 columns</p>\n",
              "</div>\n",
              "      <button class=\"colab-df-convert\" onclick=\"convertToInteractive('df-7e139968-7d99-4343-83d7-257c856621ad')\"\n",
              "              title=\"Convert this dataframe to an interactive table.\"\n",
              "              style=\"display:none;\">\n",
              "\n",
              "  <svg xmlns=\"http://www.w3.org/2000/svg\" height=\"24px\"viewBox=\"0 0 24 24\"\n",
              "       width=\"24px\">\n",
              "    <path d=\"M0 0h24v24H0V0z\" fill=\"none\"/>\n",
              "    <path d=\"M18.56 5.44l.94 2.06.94-2.06 2.06-.94-2.06-.94-.94-2.06-.94 2.06-2.06.94zm-11 1L8.5 8.5l.94-2.06 2.06-.94-2.06-.94L8.5 2.5l-.94 2.06-2.06.94zm10 10l.94 2.06.94-2.06 2.06-.94-2.06-.94-.94-2.06-.94 2.06-2.06.94z\"/><path d=\"M17.41 7.96l-1.37-1.37c-.4-.4-.92-.59-1.43-.59-.52 0-1.04.2-1.43.59L10.3 9.45l-7.72 7.72c-.78.78-.78 2.05 0 2.83L4 21.41c.39.39.9.59 1.41.59.51 0 1.02-.2 1.41-.59l7.78-7.78 2.81-2.81c.8-.78.8-2.07 0-2.86zM5.41 20L4 18.59l7.72-7.72 1.47 1.35L5.41 20z\"/>\n",
              "  </svg>\n",
              "      </button>\n",
              "\n",
              "\n",
              "\n",
              "    <div id=\"df-9e2f6d19-b7b7-40df-993f-68a374770f93\">\n",
              "      <button class=\"colab-df-quickchart\" onclick=\"quickchart('df-9e2f6d19-b7b7-40df-993f-68a374770f93')\"\n",
              "              title=\"Suggest charts.\"\n",
              "              style=\"display:none;\">\n",
              "\n",
              "<svg xmlns=\"http://www.w3.org/2000/svg\" height=\"24px\"viewBox=\"0 0 24 24\"\n",
              "     width=\"24px\">\n",
              "    <g>\n",
              "        <path d=\"M19 3H5c-1.1 0-2 .9-2 2v14c0 1.1.9 2 2 2h14c1.1 0 2-.9 2-2V5c0-1.1-.9-2-2-2zM9 17H7v-7h2v7zm4 0h-2V7h2v10zm4 0h-2v-4h2v4z\"/>\n",
              "    </g>\n",
              "</svg>\n",
              "      </button>\n",
              "    </div>\n",
              "\n",
              "<style>\n",
              "  .colab-df-quickchart {\n",
              "    background-color: #E8F0FE;\n",
              "    border: none;\n",
              "    border-radius: 50%;\n",
              "    cursor: pointer;\n",
              "    display: none;\n",
              "    fill: #1967D2;\n",
              "    height: 32px;\n",
              "    padding: 0 0 0 0;\n",
              "    width: 32px;\n",
              "  }\n",
              "\n",
              "  .colab-df-quickchart:hover {\n",
              "    background-color: #E2EBFA;\n",
              "    box-shadow: 0px 1px 2px rgba(60, 64, 67, 0.3), 0px 1px 3px 1px rgba(60, 64, 67, 0.15);\n",
              "    fill: #174EA6;\n",
              "  }\n",
              "\n",
              "  [theme=dark] .colab-df-quickchart {\n",
              "    background-color: #3B4455;\n",
              "    fill: #D2E3FC;\n",
              "  }\n",
              "\n",
              "  [theme=dark] .colab-df-quickchart:hover {\n",
              "    background-color: #434B5C;\n",
              "    box-shadow: 0px 1px 3px 1px rgba(0, 0, 0, 0.15);\n",
              "    filter: drop-shadow(0px 1px 2px rgba(0, 0, 0, 0.3));\n",
              "    fill: #FFFFFF;\n",
              "  }\n",
              "</style>\n",
              "\n",
              "    <script>\n",
              "      async function quickchart(key) {\n",
              "        const containerElement = document.querySelector('#' + key);\n",
              "        const charts = await google.colab.kernel.invokeFunction(\n",
              "            'suggestCharts', [key], {});\n",
              "      }\n",
              "    </script>\n",
              "\n",
              "      <script>\n",
              "\n",
              "function displayQuickchartButton(domScope) {\n",
              "  let quickchartButtonEl =\n",
              "    domScope.querySelector('#df-9e2f6d19-b7b7-40df-993f-68a374770f93 button.colab-df-quickchart');\n",
              "  quickchartButtonEl.style.display =\n",
              "    google.colab.kernel.accessAllowed ? 'block' : 'none';\n",
              "}\n",
              "\n",
              "        displayQuickchartButton(document);\n",
              "      </script>\n",
              "      <style>\n",
              "    .colab-df-container {\n",
              "      display:flex;\n",
              "      flex-wrap:wrap;\n",
              "      gap: 12px;\n",
              "    }\n",
              "\n",
              "    .colab-df-convert {\n",
              "      background-color: #E8F0FE;\n",
              "      border: none;\n",
              "      border-radius: 50%;\n",
              "      cursor: pointer;\n",
              "      display: none;\n",
              "      fill: #1967D2;\n",
              "      height: 32px;\n",
              "      padding: 0 0 0 0;\n",
              "      width: 32px;\n",
              "    }\n",
              "\n",
              "    .colab-df-convert:hover {\n",
              "      background-color: #E2EBFA;\n",
              "      box-shadow: 0px 1px 2px rgba(60, 64, 67, 0.3), 0px 1px 3px 1px rgba(60, 64, 67, 0.15);\n",
              "      fill: #174EA6;\n",
              "    }\n",
              "\n",
              "    [theme=dark] .colab-df-convert {\n",
              "      background-color: #3B4455;\n",
              "      fill: #D2E3FC;\n",
              "    }\n",
              "\n",
              "    [theme=dark] .colab-df-convert:hover {\n",
              "      background-color: #434B5C;\n",
              "      box-shadow: 0px 1px 3px 1px rgba(0, 0, 0, 0.15);\n",
              "      filter: drop-shadow(0px 1px 2px rgba(0, 0, 0, 0.3));\n",
              "      fill: #FFFFFF;\n",
              "    }\n",
              "  </style>\n",
              "\n",
              "      <script>\n",
              "        const buttonEl =\n",
              "          document.querySelector('#df-7e139968-7d99-4343-83d7-257c856621ad button.colab-df-convert');\n",
              "        buttonEl.style.display =\n",
              "          google.colab.kernel.accessAllowed ? 'block' : 'none';\n",
              "\n",
              "        async function convertToInteractive(key) {\n",
              "          const element = document.querySelector('#df-7e139968-7d99-4343-83d7-257c856621ad');\n",
              "          const dataTable =\n",
              "            await google.colab.kernel.invokeFunction('convertToInteractive',\n",
              "                                                     [key], {});\n",
              "          if (!dataTable) return;\n",
              "\n",
              "          const docLinkHtml = 'Like what you see? Visit the ' +\n",
              "            '<a target=\"_blank\" href=https://colab.research.google.com/notebooks/data_table.ipynb>data table notebook</a>'\n",
              "            + ' to learn more about interactive tables.';\n",
              "          element.innerHTML = '';\n",
              "          dataTable['output_type'] = 'display_data';\n",
              "          await google.colab.output.renderOutput(dataTable, element);\n",
              "          const docLink = document.createElement('div');\n",
              "          docLink.innerHTML = docLinkHtml;\n",
              "          element.appendChild(docLink);\n",
              "        }\n",
              "      </script>\n",
              "    </div>\n",
              "  </div>\n"
            ]
          },
          "metadata": {},
          "execution_count": 62
        }
      ],
      "source": [
        "df"
      ]
    },
    {
      "cell_type": "code",
      "execution_count": null,
      "metadata": {
        "id": "9ILaRgMZKKFj"
      },
      "outputs": [],
      "source": [
        "train, test = python_stratified_split(df, ratio=0.75)"
      ]
    },
    {
      "cell_type": "code",
      "execution_count": null,
      "metadata": {
        "id": "7_HnyfC0KLdY"
      },
      "outputs": [],
      "source": [
        "data = ImplicitCF(train=train, test=test, seed=SEED)"
      ]
    },
    {
      "cell_type": "code",
      "execution_count": null,
      "metadata": {
        "id": "HdR_dzPdKMex"
      },
      "outputs": [],
      "source": [
        "hparams = prepare_hparams(yaml_file,\n",
        "                          n_layers=3,\n",
        "                          batch_size= 1024,\n",
        "                          epochs=100,\n",
        "                          learning_rate=0.005,\n",
        "                          eval_epoch=5,\n",
        "                          top_k=TOP_K,\n",
        "                         )"
      ]
    },
    {
      "cell_type": "markdown",
      "source": [],
      "metadata": {
        "id": "Gh26_vVLFnq5"
      }
    },
    {
      "cell_type": "code",
      "execution_count": null,
      "metadata": {
        "colab": {
          "base_uri": "https://localhost:8080/"
        },
        "id": "bzpd8dDuMj8R",
        "outputId": "b5157d71-02aa-4860-eb87-d6d29c4aebc4"
      },
      "outputs": [
        {
          "output_type": "stream",
          "name": "stdout",
          "text": [
            "Already create adjacency matrix.\n",
            "Already normalize adjacency matrix.\n",
            "Using xavier initialization.\n"
          ]
        }
      ],
      "source": [
        "model = LightGCN(hparams, data, seed=SEED)"
      ]
    },
    {
      "cell_type": "code",
      "execution_count": null,
      "metadata": {
        "colab": {
          "base_uri": "https://localhost:8080/"
        },
        "id": "6LNOc6JqMuyZ",
        "outputId": "cdff1024-cc52-439b-e8fc-84421131a086"
      },
      "outputs": [
        {
          "output_type": "stream",
          "name": "stdout",
          "text": [
            "Epoch 1 (train)1.7s: train loss = 0.40043 = (mf)0.40032 + (embed)0.00011\n",
            "Epoch 2 (train)1.4s: train loss = 0.09520 = (mf)0.09483 + (embed)0.00037\n",
            "Epoch 3 (train)1.4s: train loss = 0.04302 = (mf)0.04250 + (embed)0.00052\n",
            "Epoch 4 (train)1.4s: train loss = 0.02465 = (mf)0.02404 + (embed)0.00061\n",
            "Epoch 5 (train)1.4s + (eval)0.9s: train loss = 0.01585 = (mf)0.01517 + (embed)0.00068, recall = 0.05338, ndcg = 0.02931, precision = 0.00634, map = 0.02062\n",
            "Epoch 6 (train)1.4s: train loss = 0.01131 = (mf)0.01058 + (embed)0.00074\n",
            "Epoch 7 (train)1.5s: train loss = 0.00833 = (mf)0.00755 + (embed)0.00078\n",
            "Epoch 8 (train)1.5s: train loss = 0.00647 = (mf)0.00566 + (embed)0.00082\n",
            "Epoch 9 (train)1.4s: train loss = 0.00546 = (mf)0.00461 + (embed)0.00085\n",
            "Epoch 10 (train)1.4s + (eval)0.9s: train loss = 0.00448 = (mf)0.00361 + (embed)0.00087, recall = 0.05295, ndcg = 0.02986, precision = 0.00621, map = 0.02157\n",
            "Epoch 11 (train)1.4s: train loss = 0.00404 = (mf)0.00315 + (embed)0.00089\n",
            "Epoch 12 (train)1.4s: train loss = 0.00340 = (mf)0.00249 + (embed)0.00091\n",
            "Epoch 13 (train)1.4s: train loss = 0.00321 = (mf)0.00229 + (embed)0.00093\n",
            "Epoch 14 (train)1.4s: train loss = 0.00285 = (mf)0.00191 + (embed)0.00094\n",
            "Epoch 15 (train)1.4s + (eval)0.9s: train loss = 0.00259 = (mf)0.00164 + (embed)0.00095, recall = 0.05230, ndcg = 0.02890, precision = 0.00611, map = 0.02059\n",
            "Epoch 16 (train)1.5s: train loss = 0.00247 = (mf)0.00151 + (embed)0.00096\n",
            "Epoch 17 (train)1.5s: train loss = 0.00232 = (mf)0.00135 + (embed)0.00097\n",
            "Epoch 18 (train)1.4s: train loss = 0.00214 = (mf)0.00116 + (embed)0.00098\n",
            "Epoch 19 (train)1.4s: train loss = 0.00205 = (mf)0.00107 + (embed)0.00098\n",
            "Epoch 20 (train)1.4s + (eval)0.9s: train loss = 0.00196 = (mf)0.00097 + (embed)0.00099, recall = 0.05173, ndcg = 0.02900, precision = 0.00613, map = 0.02098\n",
            "Epoch 21 (train)1.4s: train loss = 0.00194 = (mf)0.00094 + (embed)0.00100\n",
            "Epoch 22 (train)1.4s: train loss = 0.00185 = (mf)0.00085 + (embed)0.00100\n",
            "Epoch 23 (train)1.4s: train loss = 0.00179 = (mf)0.00079 + (embed)0.00100\n",
            "Epoch 24 (train)1.4s: train loss = 0.00177 = (mf)0.00076 + (embed)0.00100\n",
            "Epoch 25 (train)1.4s + (eval)0.9s: train loss = 0.00178 = (mf)0.00078 + (embed)0.00100, recall = 0.05121, ndcg = 0.02934, precision = 0.00611, map = 0.02150\n",
            "Epoch 26 (train)1.5s: train loss = 0.00166 = (mf)0.00066 + (embed)0.00100\n",
            "Epoch 27 (train)1.4s: train loss = 0.00161 = (mf)0.00060 + (embed)0.00100\n",
            "Epoch 28 (train)1.4s: train loss = 0.00154 = (mf)0.00054 + (embed)0.00100\n",
            "Epoch 29 (train)1.4s: train loss = 0.00162 = (mf)0.00062 + (embed)0.00100\n",
            "Epoch 30 (train)1.4s + (eval)0.9s: train loss = 0.00170 = (mf)0.00070 + (embed)0.00100, recall = 0.04858, ndcg = 0.02662, precision = 0.00574, map = 0.01885\n",
            "Epoch 31 (train)1.4s: train loss = 0.00150 = (mf)0.00050 + (embed)0.00100\n",
            "Epoch 32 (train)1.4s: train loss = 0.00158 = (mf)0.00058 + (embed)0.00100\n",
            "Epoch 33 (train)1.4s: train loss = 0.00151 = (mf)0.00051 + (embed)0.00100\n",
            "Epoch 34 (train)1.4s: train loss = 0.00142 = (mf)0.00043 + (embed)0.00099\n",
            "Epoch 35 (train)1.5s + (eval)0.9s: train loss = 0.00142 = (mf)0.00044 + (embed)0.00099, recall = 0.04859, ndcg = 0.02578, precision = 0.00582, map = 0.01779\n",
            "Epoch 36 (train)1.4s: train loss = 0.00145 = (mf)0.00047 + (embed)0.00099\n",
            "Epoch 37 (train)1.4s: train loss = 0.00138 = (mf)0.00040 + (embed)0.00098\n",
            "Epoch 38 (train)1.4s: train loss = 0.00138 = (mf)0.00040 + (embed)0.00098\n",
            "Epoch 39 (train)1.4s: train loss = 0.00133 = (mf)0.00036 + (embed)0.00098\n",
            "Epoch 40 (train)1.4s + (eval)0.9s: train loss = 0.00139 = (mf)0.00042 + (embed)0.00097, recall = 0.05119, ndcg = 0.02577, precision = 0.00608, map = 0.01696\n",
            "Epoch 41 (train)1.4s: train loss = 0.00128 = (mf)0.00031 + (embed)0.00097\n",
            "Epoch 42 (train)1.4s: train loss = 0.00126 = (mf)0.00029 + (embed)0.00096\n",
            "Epoch 43 (train)1.4s: train loss = 0.00133 = (mf)0.00037 + (embed)0.00096\n",
            "Epoch 44 (train)1.5s: train loss = 0.00134 = (mf)0.00038 + (embed)0.00095\n",
            "Epoch 45 (train)1.5s + (eval)0.9s: train loss = 0.00128 = (mf)0.00033 + (embed)0.00095, recall = 0.05003, ndcg = 0.02613, precision = 0.00587, map = 0.01775\n",
            "Epoch 46 (train)1.4s: train loss = 0.00129 = (mf)0.00035 + (embed)0.00094\n",
            "Epoch 47 (train)1.4s: train loss = 0.00123 = (mf)0.00029 + (embed)0.00094\n",
            "Epoch 48 (train)1.4s: train loss = 0.00122 = (mf)0.00029 + (embed)0.00093\n",
            "Epoch 49 (train)1.4s: train loss = 0.00128 = (mf)0.00035 + (embed)0.00093\n",
            "Epoch 50 (train)1.4s + (eval)0.9s: train loss = 0.00121 = (mf)0.00030 + (embed)0.00092, recall = 0.05098, ndcg = 0.02744, precision = 0.00598, map = 0.01912\n",
            "Epoch 51 (train)1.4s: train loss = 0.00119 = (mf)0.00028 + (embed)0.00092\n",
            "Epoch 52 (train)1.4s: train loss = 0.00116 = (mf)0.00025 + (embed)0.00091\n",
            "Epoch 53 (train)1.5s: train loss = 0.00126 = (mf)0.00035 + (embed)0.00091\n",
            "Epoch 54 (train)1.5s: train loss = 0.00119 = (mf)0.00029 + (embed)0.00090\n",
            "Epoch 55 (train)1.5s + (eval)0.9s: train loss = 0.00113 = (mf)0.00023 + (embed)0.00090, recall = 0.05013, ndcg = 0.02617, precision = 0.00590, map = 0.01780\n",
            "Epoch 56 (train)1.4s: train loss = 0.00115 = (mf)0.00026 + (embed)0.00089\n",
            "Epoch 57 (train)1.4s: train loss = 0.00117 = (mf)0.00028 + (embed)0.00089\n",
            "Epoch 58 (train)1.4s: train loss = 0.00118 = (mf)0.00030 + (embed)0.00088\n",
            "Epoch 59 (train)1.4s: train loss = 0.00113 = (mf)0.00025 + (embed)0.00088\n",
            "Epoch 60 (train)1.4s + (eval)0.9s: train loss = 0.00116 = (mf)0.00028 + (embed)0.00087, recall = 0.04928, ndcg = 0.02635, precision = 0.00587, map = 0.01818\n",
            "Epoch 61 (train)1.4s: train loss = 0.00109 = (mf)0.00023 + (embed)0.00086\n",
            "Epoch 62 (train)1.5s: train loss = 0.00113 = (mf)0.00027 + (embed)0.00086\n",
            "Epoch 63 (train)1.6s: train loss = 0.00112 = (mf)0.00027 + (embed)0.00085\n",
            "Epoch 64 (train)1.5s: train loss = 0.00114 = (mf)0.00029 + (embed)0.00085\n",
            "Epoch 65 (train)1.4s + (eval)0.9s: train loss = 0.00104 = (mf)0.00020 + (embed)0.00084, recall = 0.05003, ndcg = 0.02569, precision = 0.00587, map = 0.01728\n",
            "Epoch 66 (train)1.4s: train loss = 0.00103 = (mf)0.00019 + (embed)0.00084\n",
            "Epoch 67 (train)1.4s: train loss = 0.00115 = (mf)0.00031 + (embed)0.00083\n",
            "Epoch 68 (train)1.4s: train loss = 0.00106 = (mf)0.00023 + (embed)0.00083\n",
            "Epoch 69 (train)1.4s: train loss = 0.00111 = (mf)0.00029 + (embed)0.00082\n",
            "Epoch 70 (train)1.4s + (eval)0.9s: train loss = 0.00102 = (mf)0.00020 + (embed)0.00082, recall = 0.04755, ndcg = 0.02492, precision = 0.00566, map = 0.01704\n",
            "Epoch 71 (train)1.5s: train loss = 0.00111 = (mf)0.00030 + (embed)0.00082\n",
            "Epoch 72 (train)1.5s: train loss = 0.00108 = (mf)0.00027 + (embed)0.00081\n",
            "Epoch 73 (train)1.4s: train loss = 0.00098 = (mf)0.00017 + (embed)0.00081\n",
            "Epoch 74 (train)1.4s: train loss = 0.00100 = (mf)0.00020 + (embed)0.00080\n",
            "Epoch 75 (train)1.4s + (eval)0.9s: train loss = 0.00104 = (mf)0.00024 + (embed)0.00080, recall = 0.04768, ndcg = 0.02593, precision = 0.00572, map = 0.01813\n",
            "Epoch 76 (train)1.4s: train loss = 0.00101 = (mf)0.00022 + (embed)0.00079\n",
            "Epoch 77 (train)1.4s: train loss = 0.00099 = (mf)0.00021 + (embed)0.00079\n",
            "Epoch 78 (train)1.4s: train loss = 0.00100 = (mf)0.00022 + (embed)0.00078\n",
            "Epoch 79 (train)1.4s: train loss = 0.00113 = (mf)0.00035 + (embed)0.00078\n",
            "Epoch 80 (train)1.4s + (eval)0.9s: train loss = 0.00098 = (mf)0.00020 + (embed)0.00078, recall = 0.04579, ndcg = 0.02507, precision = 0.00548, map = 0.01740\n",
            "Epoch 81 (train)1.5s: train loss = 0.00096 = (mf)0.00019 + (embed)0.00077\n",
            "Epoch 82 (train)1.5s: train loss = 0.00101 = (mf)0.00024 + (embed)0.00077\n",
            "Epoch 83 (train)1.5s: train loss = 0.00095 = (mf)0.00018 + (embed)0.00077\n",
            "Epoch 84 (train)1.4s: train loss = 0.00093 = (mf)0.00017 + (embed)0.00076\n",
            "Epoch 85 (train)1.4s + (eval)0.9s: train loss = 0.00099 = (mf)0.00023 + (embed)0.00076, recall = 0.04950, ndcg = 0.02732, precision = 0.00595, map = 0.01922\n",
            "Epoch 86 (train)1.4s: train loss = 0.00098 = (mf)0.00022 + (embed)0.00076\n",
            "Epoch 87 (train)1.4s: train loss = 0.00095 = (mf)0.00020 + (embed)0.00075\n",
            "Epoch 88 (train)1.4s: train loss = 0.00098 = (mf)0.00023 + (embed)0.00075\n",
            "Epoch 89 (train)1.4s: train loss = 0.00096 = (mf)0.00021 + (embed)0.00075\n",
            "Epoch 90 (train)1.5s + (eval)0.9s: train loss = 0.00094 = (mf)0.00019 + (embed)0.00075, recall = 0.04870, ndcg = 0.02658, precision = 0.00585, map = 0.01846\n",
            "Epoch 91 (train)1.5s: train loss = 0.00093 = (mf)0.00019 + (embed)0.00074\n",
            "Epoch 92 (train)1.5s: train loss = 0.00087 = (mf)0.00012 + (embed)0.00074\n",
            "Epoch 93 (train)1.4s: train loss = 0.00092 = (mf)0.00019 + (embed)0.00074\n",
            "Epoch 94 (train)1.4s: train loss = 0.00096 = (mf)0.00023 + (embed)0.00073\n",
            "Epoch 95 (train)1.4s + (eval)0.9s: train loss = 0.00095 = (mf)0.00022 + (embed)0.00073, recall = 0.04687, ndcg = 0.02553, precision = 0.00561, map = 0.01771\n",
            "Epoch 96 (train)1.4s: train loss = 0.00088 = (mf)0.00015 + (embed)0.00073\n",
            "Epoch 97 (train)1.4s: train loss = 0.00091 = (mf)0.00018 + (embed)0.00073\n",
            "Epoch 98 (train)1.4s: train loss = 0.00088 = (mf)0.00015 + (embed)0.00073\n",
            "Epoch 99 (train)1.5s: train loss = 0.00096 = (mf)0.00024 + (embed)0.00073\n",
            "Epoch 100 (train)1.5s + (eval)0.9s: train loss = 0.00103 = (mf)0.00031 + (embed)0.00072, recall = 0.04844, ndcg = 0.02609, precision = 0.00590, map = 0.01787\n",
            "Took 160.63084151599992 seconds for training.\n"
          ]
        }
      ],
      "source": [
        "with Timer() as train_time:\n",
        "    model.fit()\n",
        "print(\"Took {} seconds for training.\".format(train_time.interval))"
      ]
    },
    {
      "cell_type": "code",
      "execution_count": null,
      "metadata": {
        "colab": {
          "base_uri": "https://localhost:8080/",
          "height": 206
        },
        "id": "i24hbzctMv-O",
        "outputId": "172331ad-bc66-46f9-cc7f-11713c852850"
      },
      "outputs": [
        {
          "output_type": "execute_result",
          "data": {
            "text/plain": [
              "  userID itemID  prediction\n",
              "0  10002   1111   11.077831\n",
              "1  10002    913   10.512508\n",
              "2  10002    570    9.590033\n",
              "3  10002    712    9.285477\n",
              "4  10002   2371    9.224352"
            ],
            "text/html": [
              "\n",
              "\n",
              "  <div id=\"df-b6e81862-fb92-4d66-8c93-9c42ebb7d84c\">\n",
              "    <div class=\"colab-df-container\">\n",
              "      <div>\n",
              "<style scoped>\n",
              "    .dataframe tbody tr th:only-of-type {\n",
              "        vertical-align: middle;\n",
              "    }\n",
              "\n",
              "    .dataframe tbody tr th {\n",
              "        vertical-align: top;\n",
              "    }\n",
              "\n",
              "    .dataframe thead th {\n",
              "        text-align: right;\n",
              "    }\n",
              "</style>\n",
              "<table border=\"1\" class=\"dataframe\">\n",
              "  <thead>\n",
              "    <tr style=\"text-align: right;\">\n",
              "      <th></th>\n",
              "      <th>userID</th>\n",
              "      <th>itemID</th>\n",
              "      <th>prediction</th>\n",
              "    </tr>\n",
              "  </thead>\n",
              "  <tbody>\n",
              "    <tr>\n",
              "      <th>0</th>\n",
              "      <td>10002</td>\n",
              "      <td>1111</td>\n",
              "      <td>11.077831</td>\n",
              "    </tr>\n",
              "    <tr>\n",
              "      <th>1</th>\n",
              "      <td>10002</td>\n",
              "      <td>913</td>\n",
              "      <td>10.512508</td>\n",
              "    </tr>\n",
              "    <tr>\n",
              "      <th>2</th>\n",
              "      <td>10002</td>\n",
              "      <td>570</td>\n",
              "      <td>9.590033</td>\n",
              "    </tr>\n",
              "    <tr>\n",
              "      <th>3</th>\n",
              "      <td>10002</td>\n",
              "      <td>712</td>\n",
              "      <td>9.285477</td>\n",
              "    </tr>\n",
              "    <tr>\n",
              "      <th>4</th>\n",
              "      <td>10002</td>\n",
              "      <td>2371</td>\n",
              "      <td>9.224352</td>\n",
              "    </tr>\n",
              "  </tbody>\n",
              "</table>\n",
              "</div>\n",
              "      <button class=\"colab-df-convert\" onclick=\"convertToInteractive('df-b6e81862-fb92-4d66-8c93-9c42ebb7d84c')\"\n",
              "              title=\"Convert this dataframe to an interactive table.\"\n",
              "              style=\"display:none;\">\n",
              "\n",
              "  <svg xmlns=\"http://www.w3.org/2000/svg\" height=\"24px\"viewBox=\"0 0 24 24\"\n",
              "       width=\"24px\">\n",
              "    <path d=\"M0 0h24v24H0V0z\" fill=\"none\"/>\n",
              "    <path d=\"M18.56 5.44l.94 2.06.94-2.06 2.06-.94-2.06-.94-.94-2.06-.94 2.06-2.06.94zm-11 1L8.5 8.5l.94-2.06 2.06-.94-2.06-.94L8.5 2.5l-.94 2.06-2.06.94zm10 10l.94 2.06.94-2.06 2.06-.94-2.06-.94-.94-2.06-.94 2.06-2.06.94z\"/><path d=\"M17.41 7.96l-1.37-1.37c-.4-.4-.92-.59-1.43-.59-.52 0-1.04.2-1.43.59L10.3 9.45l-7.72 7.72c-.78.78-.78 2.05 0 2.83L4 21.41c.39.39.9.59 1.41.59.51 0 1.02-.2 1.41-.59l7.78-7.78 2.81-2.81c.8-.78.8-2.07 0-2.86zM5.41 20L4 18.59l7.72-7.72 1.47 1.35L5.41 20z\"/>\n",
              "  </svg>\n",
              "      </button>\n",
              "\n",
              "\n",
              "\n",
              "    <div id=\"df-ac95c1a1-586c-4e0f-9d7a-90d2d6ab0445\">\n",
              "      <button class=\"colab-df-quickchart\" onclick=\"quickchart('df-ac95c1a1-586c-4e0f-9d7a-90d2d6ab0445')\"\n",
              "              title=\"Suggest charts.\"\n",
              "              style=\"display:none;\">\n",
              "\n",
              "<svg xmlns=\"http://www.w3.org/2000/svg\" height=\"24px\"viewBox=\"0 0 24 24\"\n",
              "     width=\"24px\">\n",
              "    <g>\n",
              "        <path d=\"M19 3H5c-1.1 0-2 .9-2 2v14c0 1.1.9 2 2 2h14c1.1 0 2-.9 2-2V5c0-1.1-.9-2-2-2zM9 17H7v-7h2v7zm4 0h-2V7h2v10zm4 0h-2v-4h2v4z\"/>\n",
              "    </g>\n",
              "</svg>\n",
              "      </button>\n",
              "    </div>\n",
              "\n",
              "<style>\n",
              "  .colab-df-quickchart {\n",
              "    background-color: #E8F0FE;\n",
              "    border: none;\n",
              "    border-radius: 50%;\n",
              "    cursor: pointer;\n",
              "    display: none;\n",
              "    fill: #1967D2;\n",
              "    height: 32px;\n",
              "    padding: 0 0 0 0;\n",
              "    width: 32px;\n",
              "  }\n",
              "\n",
              "  .colab-df-quickchart:hover {\n",
              "    background-color: #E2EBFA;\n",
              "    box-shadow: 0px 1px 2px rgba(60, 64, 67, 0.3), 0px 1px 3px 1px rgba(60, 64, 67, 0.15);\n",
              "    fill: #174EA6;\n",
              "  }\n",
              "\n",
              "  [theme=dark] .colab-df-quickchart {\n",
              "    background-color: #3B4455;\n",
              "    fill: #D2E3FC;\n",
              "  }\n",
              "\n",
              "  [theme=dark] .colab-df-quickchart:hover {\n",
              "    background-color: #434B5C;\n",
              "    box-shadow: 0px 1px 3px 1px rgba(0, 0, 0, 0.15);\n",
              "    filter: drop-shadow(0px 1px 2px rgba(0, 0, 0, 0.3));\n",
              "    fill: #FFFFFF;\n",
              "  }\n",
              "</style>\n",
              "\n",
              "    <script>\n",
              "      async function quickchart(key) {\n",
              "        const containerElement = document.querySelector('#' + key);\n",
              "        const charts = await google.colab.kernel.invokeFunction(\n",
              "            'suggestCharts', [key], {});\n",
              "      }\n",
              "    </script>\n",
              "\n",
              "      <script>\n",
              "\n",
              "function displayQuickchartButton(domScope) {\n",
              "  let quickchartButtonEl =\n",
              "    domScope.querySelector('#df-ac95c1a1-586c-4e0f-9d7a-90d2d6ab0445 button.colab-df-quickchart');\n",
              "  quickchartButtonEl.style.display =\n",
              "    google.colab.kernel.accessAllowed ? 'block' : 'none';\n",
              "}\n",
              "\n",
              "        displayQuickchartButton(document);\n",
              "      </script>\n",
              "      <style>\n",
              "    .colab-df-container {\n",
              "      display:flex;\n",
              "      flex-wrap:wrap;\n",
              "      gap: 12px;\n",
              "    }\n",
              "\n",
              "    .colab-df-convert {\n",
              "      background-color: #E8F0FE;\n",
              "      border: none;\n",
              "      border-radius: 50%;\n",
              "      cursor: pointer;\n",
              "      display: none;\n",
              "      fill: #1967D2;\n",
              "      height: 32px;\n",
              "      padding: 0 0 0 0;\n",
              "      width: 32px;\n",
              "    }\n",
              "\n",
              "    .colab-df-convert:hover {\n",
              "      background-color: #E2EBFA;\n",
              "      box-shadow: 0px 1px 2px rgba(60, 64, 67, 0.3), 0px 1px 3px 1px rgba(60, 64, 67, 0.15);\n",
              "      fill: #174EA6;\n",
              "    }\n",
              "\n",
              "    [theme=dark] .colab-df-convert {\n",
              "      background-color: #3B4455;\n",
              "      fill: #D2E3FC;\n",
              "    }\n",
              "\n",
              "    [theme=dark] .colab-df-convert:hover {\n",
              "      background-color: #434B5C;\n",
              "      box-shadow: 0px 1px 3px 1px rgba(0, 0, 0, 0.15);\n",
              "      filter: drop-shadow(0px 1px 2px rgba(0, 0, 0, 0.3));\n",
              "      fill: #FFFFFF;\n",
              "    }\n",
              "  </style>\n",
              "\n",
              "      <script>\n",
              "        const buttonEl =\n",
              "          document.querySelector('#df-b6e81862-fb92-4d66-8c93-9c42ebb7d84c button.colab-df-convert');\n",
              "        buttonEl.style.display =\n",
              "          google.colab.kernel.accessAllowed ? 'block' : 'none';\n",
              "\n",
              "        async function convertToInteractive(key) {\n",
              "          const element = document.querySelector('#df-b6e81862-fb92-4d66-8c93-9c42ebb7d84c');\n",
              "          const dataTable =\n",
              "            await google.colab.kernel.invokeFunction('convertToInteractive',\n",
              "                                                     [key], {});\n",
              "          if (!dataTable) return;\n",
              "\n",
              "          const docLinkHtml = 'Like what you see? Visit the ' +\n",
              "            '<a target=\"_blank\" href=https://colab.research.google.com/notebooks/data_table.ipynb>data table notebook</a>'\n",
              "            + ' to learn more about interactive tables.';\n",
              "          element.innerHTML = '';\n",
              "          dataTable['output_type'] = 'display_data';\n",
              "          await google.colab.output.renderOutput(dataTable, element);\n",
              "          const docLink = document.createElement('div');\n",
              "          docLink.innerHTML = docLinkHtml;\n",
              "          element.appendChild(docLink);\n",
              "        }\n",
              "      </script>\n",
              "    </div>\n",
              "  </div>\n"
            ]
          },
          "metadata": {},
          "execution_count": 36
        }
      ],
      "source": [
        "topk_scores = model.recommend_k_items(test, top_k=TOP_K, remove_seen=True)\n",
        "\n",
        "topk_scores.head()"
      ]
    },
    {
      "cell_type": "code",
      "source": [
        "eval_map = map_at_k(test, topk_scores, k=TOP_K)\n",
        "eval_ndcg = ndcg_at_k(test, topk_scores, k=TOP_K)\n",
        "eval_precision = precision_at_k(test, topk_scores, k=TOP_K)\n",
        "eval_recall = recall_at_k(test, topk_scores, k=TOP_K)\n",
        "\n",
        "print(\"MAP:\\t%f\" % eval_map,\n",
        "      \"NDCG:\\t%f\" % eval_ndcg,\n",
        "      \"Precision@K:\\t%f\" % eval_precision,\n",
        "      \"Recall@K:\\t%f\" % eval_recall, sep='\\n')"
      ],
      "metadata": {
        "colab": {
          "base_uri": "https://localhost:8080/"
        },
        "id": "wloC3tYvohRS",
        "outputId": "5ecd8d4f-6ac4-43c8-817c-1835a0015bcb"
      },
      "execution_count": null,
      "outputs": [
        {
          "output_type": "stream",
          "name": "stdout",
          "text": [
            "MAP:\t0.017866\n",
            "NDCG:\t0.026090\n",
            "Precision@K:\t0.005898\n",
            "Recall@K:\t0.048439\n"
          ]
        }
      ]
    },
    {
      "cell_type": "code",
      "source": [
        "import pandas as pd\n",
        "\n",
        "# Assuming you have a DataFrame called 'df' with columns 'userID', 'itemID', and 'prediction'\n",
        "\n",
        "# Sort the DataFrame by 'userID'\n",
        "sorted_df = topk_scores.sort_values(by='userID', ascending=True)\n",
        "\n",
        "# Print the sorted DataFrame\n",
        "print(sorted_df)\n"
      ],
      "metadata": {
        "colab": {
          "base_uri": "https://localhost:8080/"
        },
        "id": "-MMqtGH841Ao",
        "outputId": "0d92b488-357b-4897-f106-8974d537e7b9"
      },
      "execution_count": null,
      "outputs": [
        {
          "output_type": "stream",
          "name": "stdout",
          "text": [
            "      userID itemID  prediction\n",
            "0          1    657    5.875670\n",
            "8          1   2114    4.064919\n",
            "7          1   1254    4.087333\n",
            "6          1   1081    4.326112\n",
            "5          1     30    4.509099\n",
            "...      ...    ...         ...\n",
            "99982   9999    113    3.419796\n",
            "99981   9999    657    3.502756\n",
            "99980   9999    438    3.971323\n",
            "99983   9999     81    3.379709\n",
            "99988   9999   1382    2.908899\n",
            "\n",
            "[793450 rows x 3 columns]\n"
          ]
        }
      ]
    },
    {
      "cell_type": "code",
      "source": [
        "import pandas as pd\n",
        "\n",
        "# Assuming you have a DataFrame called 'topk_scores' with columns 'userID' and 'itemID'\n",
        "# Group the DataFrame by 'userID' and aggregate the 'itemID' values as a list\n",
        "grouped_df = topk_scores.groupby('userID')['itemID'].apply(list).reset_index()\n",
        "\n",
        "# Create a new DataFrame with user ID and item ID list columns\n",
        "result_df = pd.DataFrame({'userID': grouped_df['userID'], 'Item ID List': grouped_df['itemID']})\n",
        "\n",
        "# Print the result DataFrame\n",
        "print(result_df)\n"
      ],
      "metadata": {
        "colab": {
          "base_uri": "https://localhost:8080/"
        },
        "id": "ZfX1hgTi2ldF",
        "outputId": "bd607f50-57f6-4de2-b611-9970badd33d5"
      },
      "execution_count": null,
      "outputs": [
        {
          "output_type": "stream",
          "name": "stdout",
          "text": [
            "     userID                                       Item ID List\n",
            "0     10002  [1111, 913, 570, 712, 2371, 1022, 40, 622, 345...\n",
            "1     10005  [108, 469, 4313, 113, 3582, 246, 271, 4517, 44...\n",
            "2     10017  [108, 45, 359, 1051, 463, 1491, 50, 1100, 329,...\n",
            "3     10021  [886, 2874, 2276, 1081, 913, 623, 2440, 500, 2...\n",
            "4     10027  [1114, 1913, 318, 1714, 1961, 319, 1262, 6989,...\n",
            "...     ...                                                ...\n",
            "3827   9957  [431, 1133, 4126, 7109, 813, 790, 108, 1980, 3...\n",
            "3828   9959  [3659, 928, 592, 14, 2492, 443, 1961, 1603, 87...\n",
            "3829   9969  [50, 592, 443, 1263, 1401, 1961, 108, 2186, 16...\n",
            "3830    997  [684, 1678, 774, 1379, 816, 4928, 1437, 3178, ...\n",
            "3831   9992  [697, 809, 2087, 21, 1337, 443, 126, 941, 529,...\n",
            "\n",
            "[3832 rows x 2 columns]\n"
          ]
        }
      ]
    },
    {
      "cell_type": "code",
      "source": [
        "# Assuming you have a DataFrame called 'result_df' with columns 'userID' and 'Item ID List'\n",
        "\n",
        "# Explode the 'Item ID List' column into separate rows\n",
        "exploded_df = result_df.explode('Item ID List')\n",
        "\n",
        "# Reset the index of the DataFrame\n",
        "exploded_df = exploded_df.reset_index(drop=True)\n",
        "\n",
        "# Print the concatenated list of item IDs\n",
        "concatenated_list = exploded_df['Item ID List'].tolist()\n",
        "print(concatenated_list)\n"
      ],
      "metadata": {
        "colab": {
          "base_uri": "https://localhost:8080/"
        },
        "id": "sEoSSLm7VEa1",
        "outputId": "6278237c-8948-4d57-fb68-8b2348a59382"
      },
      "execution_count": null,
      "outputs": [
        {
          "output_type": "stream",
          "name": "stderr",
          "text": [
            "IOPub data rate exceeded.\n",
            "The notebook server will temporarily stop sending output\n",
            "to the client in order to avoid crashing it.\n",
            "To change this limit, set the config variable\n",
            "`--NotebookApp.iopub_data_rate_limit`.\n",
            "\n",
            "Current values:\n",
            "NotebookApp.iopub_data_rate_limit=1000000.0 (bytes/sec)\n",
            "NotebookApp.rate_limit_window=3.0 (secs)\n",
            "\n"
          ]
        }
      ]
    },
    {
      "cell_type": "code",
      "source": [
        "\n",
        "\n",
        "def calculate_item_popularity(recommendation_list):\n",
        "    item_counts = {}\n",
        "\n",
        "    # Count the occurrences of each item in the recommendation list\n",
        "    for item in recommendation_list:\n",
        "        if item in item_counts:\n",
        "            item_counts[item] += 1\n",
        "        else:\n",
        "            item_counts[item] = 1\n",
        "    return item_counts\n",
        "\n",
        "\n",
        "def calculate_entropy(popularity):\n",
        "    # Normalize popularity values to probabilities\n",
        "    total_count = sum(popularity.values())\n",
        "\n",
        "    probabilities = [count / total_count for count in popularity.values()]\n",
        "    # Calculate entropy\n",
        "    entropy = -np.sum(probabilities * np.log2(probabilities))\n",
        "\n",
        "    return entropy\n",
        "\n",
        "from scipy import integrate\n",
        "\n",
        "def calculate_gini_index(popularity):\n",
        "    # Convert the dictionary values to a list\n",
        "    popularity_values = list(popularity.values())\n",
        "\n",
        "    # Calculate the CDF\n",
        "    sorted_popularity = np.sort(popularity_values)[::-1]\n",
        "    cdf = np.cumsum(sorted_popularity) / np.sum(sorted_popularity)\n",
        "\n",
        "    # Calculate the Lorenz curve\n",
        "    quantiles = np.linspace(0, 1, len(cdf))\n",
        "    lorenz_curve = np.vstack((quantiles, cdf)).T\n",
        "\n",
        "    # Calculate the area under the Lorenz curve\n",
        "    area_A = np.sum((lorenz_curve[:-1, 0] + lorenz_curve[1:, 0]) * (lorenz_curve[1:, 1] - lorenz_curve[:-1, 1]) / 2)\n",
        "\n",
        "    # Calculate the Gini Index\n",
        "    gini_index = 0.5 - area_A\n",
        "\n",
        "    return gini_index\n",
        "\n",
        "\n",
        "# Calculate item popularity\n",
        "item_popularity = calculate_item_popularity(concatenated_list)\n",
        "\n",
        "gini_index = calculate_gini_index(item_popularity)\n",
        "print(\"Gini Index:\", gini_index)\n",
        "\n",
        "# Calculate entropy\n",
        "entropy = calculate_entropy(item_popularity)\n",
        "\n",
        "print(\"Entropy:\", entropy)\n"
      ],
      "metadata": {
        "colab": {
          "base_uri": "https://localhost:8080/"
        },
        "id": "gL6w1JgicFST",
        "outputId": "9497e751-1f6d-498a-9254-2434f70e0ea4"
      },
      "execution_count": null,
      "outputs": [
        {
          "output_type": "stream",
          "name": "stdout",
          "text": [
            "Gini Index: 0.4126729880628549\n",
            "Entropy: 9.874286253174855\n"
          ]
        }
      ]
    },
    {
      "cell_type": "code",
      "source": [
        "unique_list = list(set(concatenated_list))"
      ],
      "metadata": {
        "id": "0wkrPGhTruGB"
      },
      "execution_count": null,
      "outputs": []
    },
    {
      "cell_type": "code",
      "source": [
        "unique_item_count = df['itemID'].nunique()\n"
      ],
      "metadata": {
        "id": "AUdspkbRr7hH"
      },
      "execution_count": null,
      "outputs": []
    },
    {
      "cell_type": "code",
      "source": [
        "coverage = len(unique_list) / unique_item_count\n",
        "coverage"
      ],
      "metadata": {
        "colab": {
          "base_uri": "https://localhost:8080/"
        },
        "id": "_20RiJt-sjSr",
        "outputId": "24962542-5c7f-4273-d999-e0d469f1daf7"
      },
      "execution_count": null,
      "outputs": [
        {
          "output_type": "execute_result",
          "data": {
            "text/plain": [
              "0.4621477990574551"
            ]
          },
          "metadata": {},
          "execution_count": 109
        }
      ]
    },
    {
      "cell_type": "code",
      "execution_count": null,
      "metadata": {
        "colab": {
          "base_uri": "https://localhost:8080/"
        },
        "id": "bDwRDUzfmh0D",
        "outputId": "a1b7aa1e-2030-4ff0-9bc4-c8b2ade0606e"
      },
      "outputs": [
        {
          "output_type": "stream",
          "name": "stdout",
          "text": [
            "User Dataset 1 shape : (10001, 4)\n",
            "        userID rating   itemID  \\\n",
            "0      user_id  stars  item_id   \n",
            "1            1      3        1   \n",
            "2            2      5        2   \n",
            "3            3      3        3   \n",
            "4            4      5        4   \n",
            "...        ...    ...      ...   \n",
            "9996      9468      5     1624   \n",
            "9997      9469      5       73   \n",
            "9998      9470      5      879   \n",
            "9999      9471      5     1181   \n",
            "10000     9472      2     3186   \n",
            "\n",
            "                                                    text  \n",
            "0                                                   text  \n",
            "1      b\"If you decide to eat here, just be aware it ...  \n",
            "2      b\"I've taken a lot of spin classes over the ye...  \n",
            "3      b'Family diner. Had the buffet. Eclectic assor...  \n",
            "4      b\"Wow!  Yummy, different,  delicious.   Our fa...  \n",
            "...                                                  ...  \n",
            "9996   b'Excellent food and service. The place is fun...  \n",
            "9997   b'Just about to get tucked into a meatloaf tha...  \n",
            "9998   b'Outstanding customer service! And my car is ...  \n",
            "9999   b'I and my husband went here for Dinner one da...  \n",
            "10000  b'I saw Big Data when they came to town at the...  \n",
            "\n",
            "[10001 rows x 4 columns]\n"
          ]
        }
      ],
      "source": [
        "columns_name=['userID','rating', 'itemID', 'text']\n",
        "df2 = pd.read_csv(\"/content/drive/My Drive/final/example_texts_10000.csv\",sep=\",\",names=columns_name)\n",
        "print('User Dataset 1 shape : {}'.format(df2.shape))\n",
        "print(df2)"
      ]
    },
    {
      "cell_type": "code",
      "execution_count": null,
      "metadata": {
        "id": "t-2C_zZfMw8V"
      },
      "outputs": [],
      "source": [
        "df2 = df2.drop(df2.index[0])\n",
        "# Assuming df is your DataFrame\n",
        "df2['text'] = df2['text'].str[2:]\n",
        "df2 = df2.reset_index(drop=True)"
      ]
    },
    {
      "cell_type": "code",
      "execution_count": null,
      "metadata": {
        "colab": {
          "base_uri": "https://localhost:8080/",
          "height": 424
        },
        "id": "CEMLFIrZFQ-8",
        "outputId": "86221640-7cb3-4e27-c604-451566415057"
      },
      "outputs": [
        {
          "output_type": "execute_result",
          "data": {
            "text/plain": [
              "     userID rating itemID                                               text\n",
              "0         1      3      1  If you decide to eat here, just be aware it is...\n",
              "1         2      5      2  I've taken a lot of spin classes over the year...\n",
              "2         3      3      3  Family diner. Had the buffet. Eclectic assortm...\n",
              "3         4      5      4  Wow!  Yummy, different,  delicious.   Our favo...\n",
              "4         5      4      5  Cute interior and owner (?) gave us tour of up...\n",
              "...     ...    ...    ...                                                ...\n",
              "9995   9468      5   1624  Excellent food and service. The place is funct...\n",
              "9996   9469      5     73  Just about to get tucked into a meatloaf that ...\n",
              "9997   9470      5    879  Outstanding customer service! And my car is dr...\n",
              "9998   9471      5   1181  I and my husband went here for Dinner one day ...\n",
              "9999   9472      2   3186  I saw Big Data when they came to town at the K...\n",
              "\n",
              "[10000 rows x 4 columns]"
            ],
            "text/html": [
              "\n",
              "\n",
              "  <div id=\"df-f5d00fe4-b33c-4280-b4d5-b29b8503d1a2\">\n",
              "    <div class=\"colab-df-container\">\n",
              "      <div>\n",
              "<style scoped>\n",
              "    .dataframe tbody tr th:only-of-type {\n",
              "        vertical-align: middle;\n",
              "    }\n",
              "\n",
              "    .dataframe tbody tr th {\n",
              "        vertical-align: top;\n",
              "    }\n",
              "\n",
              "    .dataframe thead th {\n",
              "        text-align: right;\n",
              "    }\n",
              "</style>\n",
              "<table border=\"1\" class=\"dataframe\">\n",
              "  <thead>\n",
              "    <tr style=\"text-align: right;\">\n",
              "      <th></th>\n",
              "      <th>userID</th>\n",
              "      <th>rating</th>\n",
              "      <th>itemID</th>\n",
              "      <th>text</th>\n",
              "    </tr>\n",
              "  </thead>\n",
              "  <tbody>\n",
              "    <tr>\n",
              "      <th>0</th>\n",
              "      <td>1</td>\n",
              "      <td>3</td>\n",
              "      <td>1</td>\n",
              "      <td>If you decide to eat here, just be aware it is...</td>\n",
              "    </tr>\n",
              "    <tr>\n",
              "      <th>1</th>\n",
              "      <td>2</td>\n",
              "      <td>5</td>\n",
              "      <td>2</td>\n",
              "      <td>I've taken a lot of spin classes over the year...</td>\n",
              "    </tr>\n",
              "    <tr>\n",
              "      <th>2</th>\n",
              "      <td>3</td>\n",
              "      <td>3</td>\n",
              "      <td>3</td>\n",
              "      <td>Family diner. Had the buffet. Eclectic assortm...</td>\n",
              "    </tr>\n",
              "    <tr>\n",
              "      <th>3</th>\n",
              "      <td>4</td>\n",
              "      <td>5</td>\n",
              "      <td>4</td>\n",
              "      <td>Wow!  Yummy, different,  delicious.   Our favo...</td>\n",
              "    </tr>\n",
              "    <tr>\n",
              "      <th>4</th>\n",
              "      <td>5</td>\n",
              "      <td>4</td>\n",
              "      <td>5</td>\n",
              "      <td>Cute interior and owner (?) gave us tour of up...</td>\n",
              "    </tr>\n",
              "    <tr>\n",
              "      <th>...</th>\n",
              "      <td>...</td>\n",
              "      <td>...</td>\n",
              "      <td>...</td>\n",
              "      <td>...</td>\n",
              "    </tr>\n",
              "    <tr>\n",
              "      <th>9995</th>\n",
              "      <td>9468</td>\n",
              "      <td>5</td>\n",
              "      <td>1624</td>\n",
              "      <td>Excellent food and service. The place is funct...</td>\n",
              "    </tr>\n",
              "    <tr>\n",
              "      <th>9996</th>\n",
              "      <td>9469</td>\n",
              "      <td>5</td>\n",
              "      <td>73</td>\n",
              "      <td>Just about to get tucked into a meatloaf that ...</td>\n",
              "    </tr>\n",
              "    <tr>\n",
              "      <th>9997</th>\n",
              "      <td>9470</td>\n",
              "      <td>5</td>\n",
              "      <td>879</td>\n",
              "      <td>Outstanding customer service! And my car is dr...</td>\n",
              "    </tr>\n",
              "    <tr>\n",
              "      <th>9998</th>\n",
              "      <td>9471</td>\n",
              "      <td>5</td>\n",
              "      <td>1181</td>\n",
              "      <td>I and my husband went here for Dinner one day ...</td>\n",
              "    </tr>\n",
              "    <tr>\n",
              "      <th>9999</th>\n",
              "      <td>9472</td>\n",
              "      <td>2</td>\n",
              "      <td>3186</td>\n",
              "      <td>I saw Big Data when they came to town at the K...</td>\n",
              "    </tr>\n",
              "  </tbody>\n",
              "</table>\n",
              "<p>10000 rows × 4 columns</p>\n",
              "</div>\n",
              "      <button class=\"colab-df-convert\" onclick=\"convertToInteractive('df-f5d00fe4-b33c-4280-b4d5-b29b8503d1a2')\"\n",
              "              title=\"Convert this dataframe to an interactive table.\"\n",
              "              style=\"display:none;\">\n",
              "\n",
              "  <svg xmlns=\"http://www.w3.org/2000/svg\" height=\"24px\"viewBox=\"0 0 24 24\"\n",
              "       width=\"24px\">\n",
              "    <path d=\"M0 0h24v24H0V0z\" fill=\"none\"/>\n",
              "    <path d=\"M18.56 5.44l.94 2.06.94-2.06 2.06-.94-2.06-.94-.94-2.06-.94 2.06-2.06.94zm-11 1L8.5 8.5l.94-2.06 2.06-.94-2.06-.94L8.5 2.5l-.94 2.06-2.06.94zm10 10l.94 2.06.94-2.06 2.06-.94-2.06-.94-.94-2.06-.94 2.06-2.06.94z\"/><path d=\"M17.41 7.96l-1.37-1.37c-.4-.4-.92-.59-1.43-.59-.52 0-1.04.2-1.43.59L10.3 9.45l-7.72 7.72c-.78.78-.78 2.05 0 2.83L4 21.41c.39.39.9.59 1.41.59.51 0 1.02-.2 1.41-.59l7.78-7.78 2.81-2.81c.8-.78.8-2.07 0-2.86zM5.41 20L4 18.59l7.72-7.72 1.47 1.35L5.41 20z\"/>\n",
              "  </svg>\n",
              "      </button>\n",
              "\n",
              "\n",
              "\n",
              "    <div id=\"df-53fb3662-72a6-446c-a788-d228f4ff3b20\">\n",
              "      <button class=\"colab-df-quickchart\" onclick=\"quickchart('df-53fb3662-72a6-446c-a788-d228f4ff3b20')\"\n",
              "              title=\"Suggest charts.\"\n",
              "              style=\"display:none;\">\n",
              "\n",
              "<svg xmlns=\"http://www.w3.org/2000/svg\" height=\"24px\"viewBox=\"0 0 24 24\"\n",
              "     width=\"24px\">\n",
              "    <g>\n",
              "        <path d=\"M19 3H5c-1.1 0-2 .9-2 2v14c0 1.1.9 2 2 2h14c1.1 0 2-.9 2-2V5c0-1.1-.9-2-2-2zM9 17H7v-7h2v7zm4 0h-2V7h2v10zm4 0h-2v-4h2v4z\"/>\n",
              "    </g>\n",
              "</svg>\n",
              "      </button>\n",
              "    </div>\n",
              "\n",
              "<style>\n",
              "  .colab-df-quickchart {\n",
              "    background-color: #E8F0FE;\n",
              "    border: none;\n",
              "    border-radius: 50%;\n",
              "    cursor: pointer;\n",
              "    display: none;\n",
              "    fill: #1967D2;\n",
              "    height: 32px;\n",
              "    padding: 0 0 0 0;\n",
              "    width: 32px;\n",
              "  }\n",
              "\n",
              "  .colab-df-quickchart:hover {\n",
              "    background-color: #E2EBFA;\n",
              "    box-shadow: 0px 1px 2px rgba(60, 64, 67, 0.3), 0px 1px 3px 1px rgba(60, 64, 67, 0.15);\n",
              "    fill: #174EA6;\n",
              "  }\n",
              "\n",
              "  [theme=dark] .colab-df-quickchart {\n",
              "    background-color: #3B4455;\n",
              "    fill: #D2E3FC;\n",
              "  }\n",
              "\n",
              "  [theme=dark] .colab-df-quickchart:hover {\n",
              "    background-color: #434B5C;\n",
              "    box-shadow: 0px 1px 3px 1px rgba(0, 0, 0, 0.15);\n",
              "    filter: drop-shadow(0px 1px 2px rgba(0, 0, 0, 0.3));\n",
              "    fill: #FFFFFF;\n",
              "  }\n",
              "</style>\n",
              "\n",
              "    <script>\n",
              "      async function quickchart(key) {\n",
              "        const containerElement = document.querySelector('#' + key);\n",
              "        const charts = await google.colab.kernel.invokeFunction(\n",
              "            'suggestCharts', [key], {});\n",
              "      }\n",
              "    </script>\n",
              "\n",
              "      <script>\n",
              "\n",
              "function displayQuickchartButton(domScope) {\n",
              "  let quickchartButtonEl =\n",
              "    domScope.querySelector('#df-53fb3662-72a6-446c-a788-d228f4ff3b20 button.colab-df-quickchart');\n",
              "  quickchartButtonEl.style.display =\n",
              "    google.colab.kernel.accessAllowed ? 'block' : 'none';\n",
              "}\n",
              "\n",
              "        displayQuickchartButton(document);\n",
              "      </script>\n",
              "      <style>\n",
              "    .colab-df-container {\n",
              "      display:flex;\n",
              "      flex-wrap:wrap;\n",
              "      gap: 12px;\n",
              "    }\n",
              "\n",
              "    .colab-df-convert {\n",
              "      background-color: #E8F0FE;\n",
              "      border: none;\n",
              "      border-radius: 50%;\n",
              "      cursor: pointer;\n",
              "      display: none;\n",
              "      fill: #1967D2;\n",
              "      height: 32px;\n",
              "      padding: 0 0 0 0;\n",
              "      width: 32px;\n",
              "    }\n",
              "\n",
              "    .colab-df-convert:hover {\n",
              "      background-color: #E2EBFA;\n",
              "      box-shadow: 0px 1px 2px rgba(60, 64, 67, 0.3), 0px 1px 3px 1px rgba(60, 64, 67, 0.15);\n",
              "      fill: #174EA6;\n",
              "    }\n",
              "\n",
              "    [theme=dark] .colab-df-convert {\n",
              "      background-color: #3B4455;\n",
              "      fill: #D2E3FC;\n",
              "    }\n",
              "\n",
              "    [theme=dark] .colab-df-convert:hover {\n",
              "      background-color: #434B5C;\n",
              "      box-shadow: 0px 1px 3px 1px rgba(0, 0, 0, 0.15);\n",
              "      filter: drop-shadow(0px 1px 2px rgba(0, 0, 0, 0.3));\n",
              "      fill: #FFFFFF;\n",
              "    }\n",
              "  </style>\n",
              "\n",
              "      <script>\n",
              "        const buttonEl =\n",
              "          document.querySelector('#df-f5d00fe4-b33c-4280-b4d5-b29b8503d1a2 button.colab-df-convert');\n",
              "        buttonEl.style.display =\n",
              "          google.colab.kernel.accessAllowed ? 'block' : 'none';\n",
              "\n",
              "        async function convertToInteractive(key) {\n",
              "          const element = document.querySelector('#df-f5d00fe4-b33c-4280-b4d5-b29b8503d1a2');\n",
              "          const dataTable =\n",
              "            await google.colab.kernel.invokeFunction('convertToInteractive',\n",
              "                                                     [key], {});\n",
              "          if (!dataTable) return;\n",
              "\n",
              "          const docLinkHtml = 'Like what you see? Visit the ' +\n",
              "            '<a target=\"_blank\" href=https://colab.research.google.com/notebooks/data_table.ipynb>data table notebook</a>'\n",
              "            + ' to learn more about interactive tables.';\n",
              "          element.innerHTML = '';\n",
              "          dataTable['output_type'] = 'display_data';\n",
              "          await google.colab.output.renderOutput(dataTable, element);\n",
              "          const docLink = document.createElement('div');\n",
              "          docLink.innerHTML = docLinkHtml;\n",
              "          element.appendChild(docLink);\n",
              "        }\n",
              "      </script>\n",
              "    </div>\n",
              "  </div>\n"
            ]
          },
          "metadata": {},
          "execution_count": 51
        }
      ],
      "source": [
        "df2"
      ]
    },
    {
      "cell_type": "code",
      "execution_count": null,
      "metadata": {
        "colab": {
          "base_uri": "https://localhost:8080/"
        },
        "id": "ukWOJs0NgLJl",
        "outputId": "77ce54cb-bba2-454a-aa83-f9d1a6d261b0"
      },
      "outputs": [
        {
          "output_type": "stream",
          "name": "stderr",
          "text": [
            "[nltk_data] Downloading package stopwords to /root/nltk_data...\n",
            "[nltk_data]   Package stopwords is already up-to-date!\n",
            "[nltk_data] Downloading package wordnet to /root/nltk_data...\n",
            "[nltk_data]   Package wordnet is already up-to-date!\n"
          ]
        }
      ],
      "source": [
        "import nltk\n",
        "from nltk.corpus import stopwords\n",
        "from nltk.stem import WordNetLemmatizer\n",
        "import string\n",
        "\n",
        "nltk.download('stopwords')\n",
        "nltk.download('wordnet')\n",
        "\n",
        "# Define the preprocessing function\n",
        "def preprocess_text(text):\n",
        "    # Tokenize the text\n",
        "    tokens = text.lower().split()\n",
        "\n",
        "    # Remove stopwords\n",
        "    stop_words = set(stopwords.words('english'))\n",
        "    tokens = [token for token in tokens if token not in stop_words]\n",
        "\n",
        "    # Remove punctuation\n",
        "    tokens = [token.translate(str.maketrans('', '', string.punctuation)) for token in tokens]\n",
        "\n",
        "    # Lemmatize the tokens\n",
        "    lemmatizer = WordNetLemmatizer()\n",
        "    tokens = [lemmatizer.lemmatize(token) for token in tokens]\n",
        "\n",
        "    # Join the tokens back into a string\n",
        "    preprocessed_text = ' '.join(tokens)\n",
        "\n",
        "    return preprocessed_text"
      ]
    },
    {
      "cell_type": "code",
      "execution_count": null,
      "metadata": {
        "id": "U2pBBkhIgO3v"
      },
      "outputs": [],
      "source": [
        "df2['preprocessed_text'] = df2['text'].apply(preprocess_text)"
      ]
    },
    {
      "cell_type": "code",
      "execution_count": null,
      "metadata": {
        "id": "ZeWPFIxmgQM9"
      },
      "outputs": [],
      "source": [
        "from sklearn.feature_extraction.text import CountVectorizer\n",
        "from gensim import models, corpora, matutils\n",
        "from sklearn.metrics.pairwise import cosine_similarity\n",
        "\n",
        "\n",
        "# Step 2: Create a document-term matrix\n",
        "vectorizer = CountVectorizer()\n",
        "dtm = vectorizer.fit_transform(df2['preprocessed_text'])\n",
        "\n",
        "# Convert the document-term matrix to a compatible corpus\n",
        "corpus = matutils.Sparse2Corpus(dtm.T)\n",
        "\n",
        "# Step 3: Train the LDA model\n",
        "num_topics = 45\n",
        "id2word = dict((v, k) for k, v in vectorizer.vocabulary_.items())\n",
        "lda_model = models.LdaModel(\n",
        "    corpus=corpus,\n",
        "    id2word=id2word,\n",
        "    num_topics=num_topics,\n",
        "    passes=10,\n",
        "    random_state=42\n",
        ")\n",
        "\n",
        "# Step 4: Infer topic distributions\n",
        "document_topics = lda_model[corpus]\n",
        "\n",
        "# Step 5: Find similar items for each item ID\n",
        "similar_items_dict = {}\n",
        "for i, doc_topics in enumerate(document_topics):\n",
        "    item_id = df2['itemID'][i]\n",
        "    if doc_topics:  # Check if the document has any inferred topics\n",
        "        target_topic_dist = matutils.sparse2full(doc_topics, lda_model.num_topics)\n",
        "        similar_items = []\n",
        "        for j, doc_topics_j in enumerate(document_topics):\n",
        "            if j != i and doc_topics_j:  # Exclude the target document and check if the document has any inferred topics\n",
        "                doc_topic_dist = matutils.sparse2full(doc_topics_j, lda_model.num_topics)\n",
        "                similarity_score = cosine_similarity([target_topic_dist], [doc_topic_dist])[0][0]\n",
        "                similar_items.append((df2['itemID'][j], similarity_score))\n",
        "        similar_items = sorted(similar_items, key=lambda x: x[1], reverse=True)[:5]\n",
        "        similar_item_ids = [item[0] for item in similar_items]\n",
        "        similar_items_dict[item_id] = similar_item_ids\n",
        "\n",
        "# Create a DataFrame to store item IDs and similar item IDs\n",
        "similar_items_df = pd.DataFrame(columns=['Item ID', 'Similar Item ID'])\n",
        "for item_id, similar_items in similar_items_dict.items():\n",
        "    similar_items_df = similar_items_df.append({'Item ID': item_id, 'Similar Item ID': similar_items}, ignore_index=True)\n",
        "\n",
        "# Print the DataFrame\n",
        "print(similar_items_df)"
      ]
    },
    {
      "cell_type": "code",
      "execution_count": null,
      "metadata": {
        "id": "1MA9azlXg-XY"
      },
      "outputs": [],
      "source": [
        "# Step 4: Infer user-topic distributions\n",
        "user_topic_distributions = lda_model[corpus]\n",
        "\n",
        "# Step 5: Find similar users for each user ID\n",
        "# Step 5: Find similar users for each user ID\n",
        "similar_users_dict = {}\n",
        "for i, user_topics in enumerate(user_topic_distributions):\n",
        "    user_id = df2['userID'][i]\n",
        "    if user_topics:  # Check if the user has any inferred topics\n",
        "        target_topic_dist = matutils.sparse2full(user_topics, lda_model.num_topics)\n",
        "        similar_users = []\n",
        "        for j, user_topics_j in enumerate(user_topic_distributions):\n",
        "            if j != i and user_topics_j:  # Exclude the target user and check if the user has any inferred topics\n",
        "                user_topic_dist = matutils.sparse2full(user_topics_j, lda_model.num_topics)\n",
        "                similarity_score = cosine_similarity([target_topic_dist], [user_topic_dist])[0][0]\n",
        "                similar_users.append((df2['userID'][j], similarity_score))\n",
        "        similar_users = sorted(similar_users, key=lambda x: x[1], reverse=True)[:5]\n",
        "        similar_user_ids = [user[0] for user in similar_users]\n",
        "        similar_user_ids = list(set(similar_user_ids))  # Remove duplicates\n",
        "        similar_users_dict[user_id] = similar_user_ids\n",
        "\n",
        "# Create a DataFrame to store user IDs and similar user IDs\n",
        "similar_users_df = pd.DataFrame(columns=['User ID', 'Similar User ID'])\n",
        "\n",
        "# Populate the DataFrame with user IDs and similar user IDs\n",
        "for user_id, similar_users in similar_users_dict.items():\n",
        "    similar_users_df = similar_users_df.append({'User ID': user_id, 'Similar User ID': similar_users}, ignore_index=True)\n",
        "\n",
        "# Print the DataFrame\n",
        "print(similar_users_df)"
      ]
    },
    {
      "cell_type": "code",
      "execution_count": null,
      "metadata": {
        "id": "W9h9GEpek5if"
      },
      "outputs": [],
      "source": [
        "import pandas as pd\n",
        "\n",
        "# Assuming similar_items_df and df are your DataFrames\n",
        "# matching based on 'Item ID' and 'itemID' columns respectively\n",
        "\n",
        "# Merge the DataFrames based on the matching 'Item ID' and 'itemID'\n",
        "merged_df = pd.merge(df, similar_items_df, left_on='itemID', right_on='Item ID', how='left')\n",
        "\n",
        "# Assign the 'Similar Item ID' values to the new column 'similar_item_id'\n",
        "df['similar_item_id'] = merged_df['Similar Item ID']\n",
        "\n",
        "# Drop unnecessary columns if needed\n",
        "merged_df.drop(['Item ID', 'Similar Item ID'], axis=1, inplace=True)\n",
        "\n",
        "# Print the updated DataFrame\n",
        "print(merged_df)\n"
      ]
    },
    {
      "cell_type": "code",
      "execution_count": null,
      "metadata": {
        "id": "4agn8CZLk70N"
      },
      "outputs": [],
      "source": [
        "import pandas as pd\n",
        "\n",
        "# Assuming similar_items_df and df are your DataFrames\n",
        "# matching based on 'Item ID' and 'itemID' columns respectively\n",
        "\n",
        "# Merge the DataFrames based on the matching 'Item ID' and 'itemID'\n",
        "merged_df2 = pd.merge(df, similar_users_df, left_on='User ID', right_on='userID', how='left')\n",
        "\n",
        "# Assign the 'Similar Item ID' values to the new column 'similar_item_id'\n",
        "merged_df['similar_item_id'] = merged_df2['Similar Item ID']\n",
        "\n",
        "# Drop unnecessary columns if needed\n",
        "merged_df.drop(['Item ID', 'Similar Item ID'], axis=1, inplace=True)\n",
        "\n",
        "# Print the updated DataFrame\n",
        "print(merged_df)\n"
      ]
    }
  ],
  "metadata": {
    "accelerator": "GPU",
    "colab": {
      "machine_shape": "hm",
      "provenance": [],
      "authorship_tag": "ABX9TyNQzmR8rtgVKdGX06eUi8n6",
      "include_colab_link": true
    },
    "kernelspec": {
      "display_name": "Python 3",
      "name": "python3"
    },
    "language_info": {
      "name": "python"
    }
  },
  "nbformat": 4,
  "nbformat_minor": 0
}